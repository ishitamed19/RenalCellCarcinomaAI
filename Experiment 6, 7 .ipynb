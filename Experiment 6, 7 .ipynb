{
  "nbformat": 4,
  "nbformat_minor": 0,
  "metadata": {
    "colab": {
      "name": "KIRC Stage Coeff of Variation.ipynb",
      "provenance": [],
      "collapsed_sections": []
    },
    "kernelspec": {
      "name": "python3",
      "display_name": "Python 3"
    }
  },
  "cells": [
    {
      "cell_type": "code",
      "metadata": {
        "id": "2cupGKt47Gze",
        "colab": {
          "base_uri": "https://localhost:8080/",
          "height": 136
        },
        "outputId": "9069f12f-ec9f-4c1e-bad9-225f23248959"
      },
      "source": [
        "import numpy as np\n",
        "import pandas as pd\n",
        "np.random.seed(0)\n",
        "import os \n",
        "path = '/content/drive/My Drive/IIITH/GCN_KEGG/GCN_Dataset/CSV'\n",
        "os.listdir(path)"
      ],
      "execution_count": null,
      "outputs": [
        {
          "output_type": "execute_result",
          "data": {
            "text/plain": [
              "['Clinical_KICH_81_tumors.csv',\n",
              " 'Clinical_KIRP_290_tumors.csv',\n",
              " 'Clinical_KIRC_518_tumors.csv',\n",
              " 'KICH_81_tumors_log_transformed.csv',\n",
              " 'KIRP_290_tumors_log_transformed.csv',\n",
              " 'KIRC_518_tumors_log_transformed.csv',\n",
              " '.DS_Store']"
            ]
          },
          "metadata": {
            "tags": []
          },
          "execution_count": 88
        }
      ]
    },
    {
      "cell_type": "code",
      "metadata": {
        "id": "0zaUGajq7WYF"
      },
      "source": [
        "def load_dataset(path, filename, transpose=True):\n",
        "    '''\n",
        "        Loads the dataset and converts into its transpose with appropriate columns\n",
        "    '''\n",
        "    df = pd.read_csv(os.path.join(path, filename))\n",
        "    df.rename(columns={\"Unnamed: 0\": \"pid\"}, inplace=True)\n",
        "    if transpose:\n",
        "        df = df.astype({\"pid\": str})\n",
        "        df = df.T\n",
        "        new_header = df.iloc[0] \n",
        "        df = df[1:]\n",
        "        df.columns = new_header\n",
        "    return df"
      ],
      "execution_count": null,
      "outputs": []
    },
    {
      "cell_type": "code",
      "metadata": {
        "id": "GSL01FSC7ZgU"
      },
      "source": [
        "df_kirc = load_dataset(path,'KIRC_518_tumors_log_transformed.csv',transpose=True)\n",
        "patient_data_kirc = load_dataset(path,'Clinical_KIRC_518_tumors.csv',transpose=False)\n",
        "pid_kirc_drop1 = patient_data_kirc[patient_data_kirc['ajcc_pathologic_tumor_stage']=='[Not Available]'].pid\n",
        "pid_kirc_drop2 = patient_data_kirc[patient_data_kirc['ajcc_pathologic_tumor_stage']=='[Discrepancy]'].pid\n",
        "patient_data_kirc.drop(patient_data_kirc[patient_data_kirc['ajcc_pathologic_tumor_stage']=='[Not Available]'].index, inplace=True )\n",
        "patient_data_kirc.drop(patient_data_kirc[patient_data_kirc['ajcc_pathologic_tumor_stage']=='[Discrepancy]'].index, inplace=True )\n",
        "df_kirc.drop(pid_kirc_drop1,inplace=True)\n",
        "df_kirc.drop(pid_kirc_drop2,inplace=True)\n",
        "\n",
        "y_kirc=[]\n",
        "for pid in df_kirc.index:\n",
        "    stage=patient_data_kirc[patient_data_kirc['pid']==pid]['ajcc_pathologic_tumor_stage']\n",
        "    stage = stage.values[0]\n",
        "    if stage=='Stage I':\n",
        "        y_kirc.append(0)\n",
        "    elif stage=='Stage II':\n",
        "        y_kirc.append(0)\n",
        "    elif stage=='Stage III':\n",
        "        y_kirc.append(1)\n",
        "    elif stage=='Stage IV':\n",
        "        y_kirc.append(1)"
      ],
      "execution_count": null,
      "outputs": []
    },
    {
      "cell_type": "code",
      "metadata": {
        "id": "HZNUAm_g7fMg"
      },
      "source": [
        "from sklearn.model_selection import train_test_split\n"
      ],
      "execution_count": null,
      "outputs": []
    },
    {
      "cell_type": "code",
      "metadata": {
        "id": "ImnOJBHO7pQF"
      },
      "source": [
        "data = df_kirc\n",
        "y_kirc = np.asarray(y_kirc)\n",
        "data = data.assign(y=pd.Series(y_kirc).values)\n",
        "data = data.apply(pd.to_numeric)\n",
        "data_train, data_test, y_train, y_test = train_test_split(data, y_kirc, test_size=0.2, random_state=0, stratify=y_kirc)\n",
        "\n",
        "\n",
        "X_train = data_train.drop(['y'], axis=1)\n",
        "y_train = data_train['y']\n",
        "y_train = y_train.values\n",
        "\n",
        "X_test = data_test.drop(['y'], axis=1)\n",
        "y_test = data_test['y']\n",
        "y_test = y_test.values"
      ],
      "execution_count": null,
      "outputs": []
    },
    {
      "cell_type": "code",
      "metadata": {
        "id": "X0wUWAhV7_YP"
      },
      "source": [
        "import matplotlib.pyplot as plt\n",
        "\n",
        "from sklearn.preprocessing import MinMaxScaler, StandardScaler\n",
        "from sklearn.svm import LinearSVC\n",
        "from sklearn.pipeline import make_pipeline\n",
        "from sklearn.feature_selection import SelectKBest, f_classif"
      ],
      "execution_count": null,
      "outputs": []
    },
    {
      "cell_type": "code",
      "metadata": {
        "id": "0zcQxntpCsHh"
      },
      "source": [
        "sc = StandardScaler()\n",
        "X_train = sc.fit_transform(X_train)\n",
        "X_test = sc.fit_transform(X_test)"
      ],
      "execution_count": null,
      "outputs": []
    },
    {
      "cell_type": "code",
      "metadata": {
        "id": "JJaTr5gR9vM3",
        "colab": {
          "base_uri": "https://localhost:8080/",
          "height": 530
        },
        "outputId": "7a642e16-5caa-486a-ebee-d62ba4d0a603"
      },
      "source": [
        "fvalue_selector = SelectKBest(f_classif, k=3000)\n",
        "X_kbest = fvalue_selector.fit_transform(X_train, y_train)\n",
        "X_test_kbest = fvalue_selector.transform(X_test)"
      ],
      "execution_count": null,
      "outputs": [
        {
          "output_type": "stream",
          "text": [
            "/usr/local/lib/python3.6/dist-packages/sklearn/feature_selection/_univariate_selection.py:114: UserWarning: Features [    5     9    23  1749  1765  3526  4319  4370  4371  4373  4374  4375\n",
            "  4376  4655  4808  4814  4816  4817  4818  4823  4835  5288  7474  7661\n",
            "  7662  7663  7664  7665  8121  9304  9311  9312  9313  9315  9318  9350\n",
            "  9452 10121 10139 11130 11223 11958 12826 13520 14159 14160 14161 14162\n",
            " 14756 14758 15139 15141 15142 15564 16567 16569 16570 16572 16575 16576\n",
            " 16579 16580 16581 16606 16631 16639 16676 16698 16699 16700 16701 16702\n",
            " 16704 16705 16706 16707 16708 16709 16710 16711 16712 16713 16714 16715\n",
            " 16716 16717 16718 16719 16720 16721 16722 16723 16724 16725 16726 16727\n",
            " 16728 16729 16730 16731 16732 16733 16734 16735 16736 16737 16738 16739\n",
            " 16740 16741 16742 16743 16744 16745 16746 16747 16749 16750 16751 16752\n",
            " 16753 16754 16755 16756 16758 16759 16760 16761 16762 16763 16764 16765\n",
            " 16766 16767 16768 16769 16770 16771 16772 16773 16775 16776 16777 16778\n",
            " 16779 16780 16781 16782 16783 16784 16785 16786 16788 16789 16790 16791\n",
            " 16792 16793 16794 16796 16797 16799 16800 16801 16802 16803 16804 16805\n",
            " 16806 16807 16808 16809 16810 16811 16812 16813 16814 16817 16819 16820\n",
            " 16821 16822 16823 16824 16825 16827 16828 16830 16831 16832 16833 16834\n",
            " 16835 16836 16837 16838 16839 16840 16841 16842 16843 16844 16845 16846\n",
            " 16847 16848 16849 16850 16851 16852 16853 16854 16855 16856 16857 16858\n",
            " 16859 16860 16861 16862 16863 16864 16865 16866 16867 16868 16869 16870\n",
            " 16871 16872 16873 16874 16875 16876 16877 16878 16879 16880 16881 16882\n",
            " 16883 16884 16885 16886 16887 16888 16890 16891 16892 16893 16894 16895\n",
            " 16896 16897 16898 16899 16900 16901 16902 16903 16904 16905 16906 16907\n",
            " 16908 16909 16910 16911 16912 16913 16915 16916 16917 16918 16919 16921\n",
            " 16922 16923 16924 16926 16927 17145 17497 17903 18817 18820 18832 18905\n",
            " 18906 18907 18911 18912 18913 18914 18917 18918 18921 19452 19453 19454\n",
            " 19674] are constant.\n",
            "  UserWarning)\n",
            "/usr/local/lib/python3.6/dist-packages/sklearn/feature_selection/_univariate_selection.py:115: RuntimeWarning: invalid value encountered in true_divide\n",
            "  f = msb / msw\n"
          ],
          "name": "stderr"
        }
      ]
    },
    {
      "cell_type": "code",
      "metadata": {
        "id": "dICmqrmx_pii",
        "colab": {
          "base_uri": "https://localhost:8080/",
          "height": 34
        },
        "outputId": "0e74b616-59a1-47ea-cabc-67f7553d6898"
      },
      "source": [
        "X_kbest.shape, X_test_kbest.shape"
      ],
      "execution_count": null,
      "outputs": [
        {
          "output_type": "execute_result",
          "data": {
            "text/plain": [
              "((412, 3000), (103, 3000))"
            ]
          },
          "metadata": {
            "tags": []
          },
          "execution_count": 99
        }
      ]
    },
    {
      "cell_type": "code",
      "metadata": {
        "id": "UKI2ltJjBNZe"
      },
      "source": [
        "# Classifiers\n",
        "from sklearn.svm import NuSVC, SVC\n",
        "from sklearn.neural_network import MLPClassifier\n",
        "from sklearn.ensemble import RandomForestClassifier, VotingClassifier, ExtraTreesClassifier\n",
        "from sklearn.naive_bayes import GaussianNB"
      ],
      "execution_count": null,
      "outputs": []
    },
    {
      "cell_type": "code",
      "metadata": {
        "id": "dKjEQBR0BVjy"
      },
      "source": [
        "clf1 = ExtraTreesClassifier(max_depth=5, random_state=0, n_estimators=200)\n",
        "clf2 = RandomForestClassifier(n_estimators = 200, criterion = \"gini\", max_depth = 5,\n",
        "                                max_features = \"auto\", min_samples_leaf = 0.005,\n",
        "                                min_samples_split = 0.005, n_jobs = -1, random_state = 0) \n",
        "\n",
        "\n",
        "\n",
        "eclf3 = VotingClassifier(estimators=[\n",
        "      ('lr', clf1), ('rf', clf2)],\n",
        "      voting='hard', weights=[1,2],\n",
        "      flatten_transform=True)\n",
        "eclf3 = clf2.fit(X_kbest, y_train)"
      ],
      "execution_count": null,
      "outputs": []
    },
    {
      "cell_type": "code",
      "metadata": {
        "id": "04jTKLJYBVyf",
        "colab": {
          "base_uri": "https://localhost:8080/",
          "height": 34
        },
        "outputId": "bdfc32aa-1c70-4d8e-b3a4-edf9cd514e41"
      },
      "source": [
        "eclf3.score(X_test_kbest, y_test)"
      ],
      "execution_count": null,
      "outputs": [
        {
          "output_type": "execute_result",
          "data": {
            "text/plain": [
              "0.7475728155339806"
            ]
          },
          "metadata": {
            "tags": []
          },
          "execution_count": 102
        }
      ]
    },
    {
      "cell_type": "code",
      "metadata": {
        "id": "o-3hIbRBBV33"
      },
      "source": [
        "from sklearn.linear_model import Lasso\n",
        "from sklearn.feature_selection import SelectFromModel"
      ],
      "execution_count": null,
      "outputs": []
    },
    {
      "cell_type": "code",
      "metadata": {
        "id": "zTHC94yKBV-7",
        "colab": {
          "base_uri": "https://localhost:8080/",
          "height": 119
        },
        "outputId": "1c19e2e5-c5fe-46f5-d610-12c7cdba2737"
      },
      "source": [
        "sel_ = SelectFromModel(Lasso(alpha=0.005))\n",
        "X_train = data_train.drop(['y'], axis=1)\n",
        "y_train = data_train['y']\n",
        "y_train = y_train.values\n",
        "\n",
        "X_test = data_test.drop(['y'], axis=1)\n",
        "y_test = data_test['y']\n",
        "y_test = y_test.values\n",
        "sel_.fit(sc.fit_transform(X_train), y_train)"
      ],
      "execution_count": null,
      "outputs": [
        {
          "output_type": "execute_result",
          "data": {
            "text/plain": [
              "SelectFromModel(estimator=Lasso(alpha=0.005, copy_X=True, fit_intercept=True,\n",
              "                                max_iter=1000, normalize=False, positive=False,\n",
              "                                precompute=False, random_state=None,\n",
              "                                selection='cyclic', tol=0.0001,\n",
              "                                warm_start=False),\n",
              "                max_features=None, norm_order=1, prefit=False, threshold=None)"
            ]
          },
          "metadata": {
            "tags": []
          },
          "execution_count": 83
        }
      ]
    },
    {
      "cell_type": "code",
      "metadata": {
        "id": "vTfLfTYDBV9O",
        "colab": {
          "base_uri": "https://localhost:8080/",
          "height": 68
        },
        "outputId": "075c04d5-7830-4674-c504-2a7af7da05c9"
      },
      "source": [
        "# make a list with the selected features and print the outputs\n",
        "selected_feat = X_train.columns[(sel_.get_support())]\n",
        "\n",
        "print('total features: {}'.format((X_train.shape[1])))\n",
        "print('selected features: {}'.format(len(selected_feat)))\n",
        "print('features with coefficients shrank to zero: {}'.format(\n",
        "    np.sum(sel_.estimator_.coef_ == 0)))"
      ],
      "execution_count": null,
      "outputs": [
        {
          "output_type": "stream",
          "text": [
            "total features: 20531\n",
            "selected features: 336\n",
            "features with coefficients shrank to zero: 20195\n"
          ],
          "name": "stdout"
        }
      ]
    },
    {
      "cell_type": "code",
      "metadata": {
        "id": "iUbWE2P-LOdB"
      },
      "source": [
        "\n",
        "X_train = data_train[selected_feat]\n",
        "y_train = data_train['y']\n",
        "y_train = y_train.values\n",
        "\n",
        "\n",
        "X_test = data_test[selected_feat]\n",
        "y_test = data_test['y']\n",
        "y_test = y_test.values"
      ],
      "execution_count": null,
      "outputs": []
    },
    {
      "cell_type": "code",
      "metadata": {
        "id": "-w2UeilRONhj"
      },
      "source": [
        "sc = StandardScaler()\n",
        "X_train = sc.fit_transform(X_train)\n",
        "X_test = sc.fit_transform(X_test)"
      ],
      "execution_count": null,
      "outputs": []
    },
    {
      "cell_type": "code",
      "metadata": {
        "id": "EcfGPeg7ONqL",
        "colab": {
          "base_uri": "https://localhost:8080/",
          "height": 34
        },
        "outputId": "c0c152ce-c0ec-4327-bfeb-6baddb027bfd"
      },
      "source": [
        "clf1 = ExtraTreesClassifier(max_depth=5, random_state=0, n_estimators=200)\n",
        "clf2 = RandomForestClassifier(n_estimators = 100, criterion = \"gini\", max_depth = 5,\n",
        "                                max_features = \"auto\", min_samples_leaf = 0.005,\n",
        "                                min_samples_split = 0.005, n_jobs = -1, random_state = 0) \n",
        "\n",
        "\n",
        "\n",
        "eclf3 = VotingClassifier(estimators=[\n",
        "      ('lr', clf1), ('rf', clf2)],\n",
        "      voting='hard', weights=[1,2],\n",
        "      flatten_transform=True)\n",
        "eclf3 = eclf3.fit(X_train, y_train)\n",
        "eclf3.score(X_test, y_test)"
      ],
      "execution_count": null,
      "outputs": [
        {
          "output_type": "execute_result",
          "data": {
            "text/plain": [
              "0.7281553398058253"
            ]
          },
          "metadata": {
            "tags": []
          },
          "execution_count": 87
        }
      ]
    },
    {
      "cell_type": "code",
      "metadata": {
        "id": "JaVIL0BbONyt"
      },
      "source": [
        ""
      ],
      "execution_count": null,
      "outputs": []
    },
    {
      "cell_type": "code",
      "metadata": {
        "id": "lfyKbJI7ON76",
        "colab": {
          "base_uri": "https://localhost:8080/",
          "height": 375
        },
        "outputId": "7ad64f98-fe67-48dd-f413-e025ff2ca1bb"
      },
      "source": [
        "# creating set to hold the correlated features\n",
        "corr_features = set()\n",
        "\n",
        "# create the correlation matrix (default to pearson)\n",
        "corr_matrix = data_train.corr(method='kendall')\n",
        "\n",
        "# optional: display a heatmap of the correlation matrix\n",
        "plt.figure(figsize=(11,11))\n",
        "sns.heatmap(corr_matrix)\n",
        "\n",
        "for i in range(len(corr_matrix .columns)):\n",
        "    for j in range(i):\n",
        "        if abs(corr_matrix.iloc[i, j]) > 0.8:\n",
        "            colname = corr_matrix.columns[i]\n",
        "            corr_features.add(colname)\n",
        "            \n"
      ],
      "execution_count": null,
      "outputs": [
        {
          "output_type": "error",
          "ename": "KeyboardInterrupt",
          "evalue": "ignored",
          "traceback": [
            "\u001b[0;31m---------------------------------------------------------------------------\u001b[0m",
            "\u001b[0;31mKeyboardInterrupt\u001b[0m                         Traceback (most recent call last)",
            "\u001b[0;32m<ipython-input-97-130a01e60aee>\u001b[0m in \u001b[0;36m<module>\u001b[0;34m()\u001b[0m\n\u001b[1;32m      3\u001b[0m \u001b[0;34m\u001b[0m\u001b[0m\n\u001b[1;32m      4\u001b[0m \u001b[0;31m# create the correlation matrix (default to pearson)\u001b[0m\u001b[0;34m\u001b[0m\u001b[0;34m\u001b[0m\u001b[0;34m\u001b[0m\u001b[0m\n\u001b[0;32m----> 5\u001b[0;31m \u001b[0mcorr_matrix\u001b[0m \u001b[0;34m=\u001b[0m \u001b[0mdata_train\u001b[0m\u001b[0;34m.\u001b[0m\u001b[0mcorr\u001b[0m\u001b[0;34m(\u001b[0m\u001b[0mmethod\u001b[0m\u001b[0;34m=\u001b[0m\u001b[0;34m'kendall'\u001b[0m\u001b[0;34m)\u001b[0m\u001b[0;34m\u001b[0m\u001b[0;34m\u001b[0m\u001b[0m\n\u001b[0m\u001b[1;32m      6\u001b[0m \u001b[0;34m\u001b[0m\u001b[0m\n\u001b[1;32m      7\u001b[0m \u001b[0;31m# optional: display a heatmap of the correlation matrix\u001b[0m\u001b[0;34m\u001b[0m\u001b[0;34m\u001b[0m\u001b[0;34m\u001b[0m\u001b[0m\n",
            "\u001b[0;32m/usr/local/lib/python3.6/dist-packages/pandas/core/frame.py\u001b[0m in \u001b[0;36mcorr\u001b[0;34m(self, method, min_periods)\u001b[0m\n\u001b[1;32m   7488\u001b[0m                         \u001b[0mc\u001b[0m \u001b[0;34m=\u001b[0m \u001b[0mcorrf\u001b[0m\u001b[0;34m(\u001b[0m\u001b[0mac\u001b[0m\u001b[0;34m[\u001b[0m\u001b[0mvalid\u001b[0m\u001b[0;34m]\u001b[0m\u001b[0;34m,\u001b[0m \u001b[0mbc\u001b[0m\u001b[0;34m[\u001b[0m\u001b[0mvalid\u001b[0m\u001b[0;34m]\u001b[0m\u001b[0;34m)\u001b[0m\u001b[0;34m\u001b[0m\u001b[0;34m\u001b[0m\u001b[0m\n\u001b[1;32m   7489\u001b[0m                     \u001b[0;32melse\u001b[0m\u001b[0;34m:\u001b[0m\u001b[0;34m\u001b[0m\u001b[0;34m\u001b[0m\u001b[0m\n\u001b[0;32m-> 7490\u001b[0;31m                         \u001b[0mc\u001b[0m \u001b[0;34m=\u001b[0m \u001b[0mcorrf\u001b[0m\u001b[0;34m(\u001b[0m\u001b[0mac\u001b[0m\u001b[0;34m,\u001b[0m \u001b[0mbc\u001b[0m\u001b[0;34m)\u001b[0m\u001b[0;34m\u001b[0m\u001b[0;34m\u001b[0m\u001b[0m\n\u001b[0m\u001b[1;32m   7491\u001b[0m                     \u001b[0mcorrel\u001b[0m\u001b[0;34m[\u001b[0m\u001b[0mi\u001b[0m\u001b[0;34m,\u001b[0m \u001b[0mj\u001b[0m\u001b[0;34m]\u001b[0m \u001b[0;34m=\u001b[0m \u001b[0mc\u001b[0m\u001b[0;34m\u001b[0m\u001b[0;34m\u001b[0m\u001b[0m\n\u001b[1;32m   7492\u001b[0m                     \u001b[0mcorrel\u001b[0m\u001b[0;34m[\u001b[0m\u001b[0mj\u001b[0m\u001b[0;34m,\u001b[0m \u001b[0mi\u001b[0m\u001b[0;34m]\u001b[0m \u001b[0;34m=\u001b[0m \u001b[0mc\u001b[0m\u001b[0;34m\u001b[0m\u001b[0;34m\u001b[0m\u001b[0m\n",
            "\u001b[0;32m/usr/local/lib/python3.6/dist-packages/pandas/core/nanops.py\u001b[0m in \u001b[0;36m_kendall\u001b[0;34m(a, b)\u001b[0m\n\u001b[1;32m   1258\u001b[0m     \u001b[0;32mdef\u001b[0m \u001b[0m_kendall\u001b[0m\u001b[0;34m(\u001b[0m\u001b[0ma\u001b[0m\u001b[0;34m,\u001b[0m \u001b[0mb\u001b[0m\u001b[0;34m)\u001b[0m\u001b[0;34m:\u001b[0m\u001b[0;34m\u001b[0m\u001b[0;34m\u001b[0m\u001b[0m\n\u001b[1;32m   1259\u001b[0m         \u001b[0;31m# kendallttau returns a tuple of the tau statistic and pvalue\u001b[0m\u001b[0;34m\u001b[0m\u001b[0;34m\u001b[0m\u001b[0;34m\u001b[0m\u001b[0m\n\u001b[0;32m-> 1260\u001b[0;31m         \u001b[0mrs\u001b[0m \u001b[0;34m=\u001b[0m \u001b[0mkendalltau\u001b[0m\u001b[0;34m(\u001b[0m\u001b[0ma\u001b[0m\u001b[0;34m,\u001b[0m \u001b[0mb\u001b[0m\u001b[0;34m)\u001b[0m\u001b[0;34m\u001b[0m\u001b[0;34m\u001b[0m\u001b[0m\n\u001b[0m\u001b[1;32m   1261\u001b[0m         \u001b[0;32mreturn\u001b[0m \u001b[0mrs\u001b[0m\u001b[0;34m[\u001b[0m\u001b[0;36m0\u001b[0m\u001b[0;34m]\u001b[0m\u001b[0;34m\u001b[0m\u001b[0;34m\u001b[0m\u001b[0m\n\u001b[1;32m   1262\u001b[0m \u001b[0;34m\u001b[0m\u001b[0m\n",
            "\u001b[0;32m/usr/local/lib/python3.6/dist-packages/scipy/stats/stats.py\u001b[0m in \u001b[0;36mkendalltau\u001b[0;34m(x, y, initial_lexsort, nan_policy, method)\u001b[0m\n\u001b[1;32m   4068\u001b[0m     \u001b[0;31m# check both x and y\u001b[0m\u001b[0;34m\u001b[0m\u001b[0;34m\u001b[0m\u001b[0;34m\u001b[0m\u001b[0m\n\u001b[1;32m   4069\u001b[0m     \u001b[0mcnx\u001b[0m\u001b[0;34m,\u001b[0m \u001b[0mnpx\u001b[0m \u001b[0;34m=\u001b[0m \u001b[0m_contains_nan\u001b[0m\u001b[0;34m(\u001b[0m\u001b[0mx\u001b[0m\u001b[0;34m,\u001b[0m \u001b[0mnan_policy\u001b[0m\u001b[0;34m)\u001b[0m\u001b[0;34m\u001b[0m\u001b[0;34m\u001b[0m\u001b[0m\n\u001b[0;32m-> 4070\u001b[0;31m     \u001b[0mcny\u001b[0m\u001b[0;34m,\u001b[0m \u001b[0mnpy\u001b[0m \u001b[0;34m=\u001b[0m \u001b[0m_contains_nan\u001b[0m\u001b[0;34m(\u001b[0m\u001b[0my\u001b[0m\u001b[0;34m,\u001b[0m \u001b[0mnan_policy\u001b[0m\u001b[0;34m)\u001b[0m\u001b[0;34m\u001b[0m\u001b[0;34m\u001b[0m\u001b[0m\n\u001b[0m\u001b[1;32m   4071\u001b[0m     \u001b[0mcontains_nan\u001b[0m \u001b[0;34m=\u001b[0m \u001b[0mcnx\u001b[0m \u001b[0;32mor\u001b[0m \u001b[0mcny\u001b[0m\u001b[0;34m\u001b[0m\u001b[0;34m\u001b[0m\u001b[0m\n\u001b[1;32m   4072\u001b[0m     \u001b[0;32mif\u001b[0m \u001b[0mnpx\u001b[0m \u001b[0;34m==\u001b[0m \u001b[0;34m'omit'\u001b[0m \u001b[0;32mor\u001b[0m \u001b[0mnpy\u001b[0m \u001b[0;34m==\u001b[0m \u001b[0;34m'omit'\u001b[0m\u001b[0;34m:\u001b[0m\u001b[0;34m\u001b[0m\u001b[0;34m\u001b[0m\u001b[0m\n",
            "\u001b[0;32m/usr/local/lib/python3.6/dist-packages/scipy/stats/stats.py\u001b[0m in \u001b[0;36m_contains_nan\u001b[0;34m(a, nan_policy)\u001b[0m\n\u001b[1;32m    254\u001b[0m         \u001b[0;31m# Calling np.sum to avoid creating a huge array into memory\u001b[0m\u001b[0;34m\u001b[0m\u001b[0;34m\u001b[0m\u001b[0;34m\u001b[0m\u001b[0m\n\u001b[1;32m    255\u001b[0m         \u001b[0;31m# e.g. np.isnan(a).any()\u001b[0m\u001b[0;34m\u001b[0m\u001b[0;34m\u001b[0m\u001b[0;34m\u001b[0m\u001b[0m\n\u001b[0;32m--> 256\u001b[0;31m         \u001b[0;32mwith\u001b[0m \u001b[0mnp\u001b[0m\u001b[0;34m.\u001b[0m\u001b[0merrstate\u001b[0m\u001b[0;34m(\u001b[0m\u001b[0minvalid\u001b[0m\u001b[0;34m=\u001b[0m\u001b[0;34m'ignore'\u001b[0m\u001b[0;34m)\u001b[0m\u001b[0;34m:\u001b[0m\u001b[0;34m\u001b[0m\u001b[0;34m\u001b[0m\u001b[0m\n\u001b[0m\u001b[1;32m    257\u001b[0m             \u001b[0mcontains_nan\u001b[0m \u001b[0;34m=\u001b[0m \u001b[0mnp\u001b[0m\u001b[0;34m.\u001b[0m\u001b[0misnan\u001b[0m\u001b[0;34m(\u001b[0m\u001b[0mnp\u001b[0m\u001b[0;34m.\u001b[0m\u001b[0msum\u001b[0m\u001b[0;34m(\u001b[0m\u001b[0ma\u001b[0m\u001b[0;34m)\u001b[0m\u001b[0;34m)\u001b[0m\u001b[0;34m\u001b[0m\u001b[0;34m\u001b[0m\u001b[0m\n\u001b[1;32m    258\u001b[0m     \u001b[0;32mexcept\u001b[0m \u001b[0mTypeError\u001b[0m\u001b[0;34m:\u001b[0m\u001b[0;34m\u001b[0m\u001b[0;34m\u001b[0m\u001b[0m\n",
            "\u001b[0;32m/usr/local/lib/python3.6/dist-packages/numpy/core/_ufunc_config.py\u001b[0m in \u001b[0;36m__enter__\u001b[0;34m(self)\u001b[0m\n\u001b[1;32m    439\u001b[0m         \u001b[0mself\u001b[0m\u001b[0;34m.\u001b[0m\u001b[0mkwargs\u001b[0m \u001b[0;34m=\u001b[0m \u001b[0mkwargs\u001b[0m\u001b[0;34m\u001b[0m\u001b[0;34m\u001b[0m\u001b[0m\n\u001b[1;32m    440\u001b[0m \u001b[0;34m\u001b[0m\u001b[0m\n\u001b[0;32m--> 441\u001b[0;31m     \u001b[0;32mdef\u001b[0m \u001b[0m__enter__\u001b[0m\u001b[0;34m(\u001b[0m\u001b[0mself\u001b[0m\u001b[0;34m)\u001b[0m\u001b[0;34m:\u001b[0m\u001b[0;34m\u001b[0m\u001b[0;34m\u001b[0m\u001b[0m\n\u001b[0m\u001b[1;32m    442\u001b[0m         \u001b[0mself\u001b[0m\u001b[0;34m.\u001b[0m\u001b[0moldstate\u001b[0m \u001b[0;34m=\u001b[0m \u001b[0mseterr\u001b[0m\u001b[0;34m(\u001b[0m\u001b[0;34m**\u001b[0m\u001b[0mself\u001b[0m\u001b[0;34m.\u001b[0m\u001b[0mkwargs\u001b[0m\u001b[0;34m)\u001b[0m\u001b[0;34m\u001b[0m\u001b[0;34m\u001b[0m\u001b[0m\n\u001b[1;32m    443\u001b[0m         \u001b[0;32mif\u001b[0m \u001b[0mself\u001b[0m\u001b[0;34m.\u001b[0m\u001b[0mcall\u001b[0m \u001b[0;32mis\u001b[0m \u001b[0;32mnot\u001b[0m \u001b[0m_Unspecified\u001b[0m\u001b[0;34m:\u001b[0m\u001b[0;34m\u001b[0m\u001b[0;34m\u001b[0m\u001b[0m\n",
            "\u001b[0;31mKeyboardInterrupt\u001b[0m: "
          ]
        }
      ]
    },
    {
      "cell_type": "code",
      "metadata": {
        "id": "C-lDs1O8OODk"
      },
      "source": [
        "data_train.drop(labels=corr_features, axis=1)\n"
      ],
      "execution_count": null,
      "outputs": []
    },
    {
      "cell_type": "code",
      "metadata": {
        "id": "yTDTCp-NOOLu"
      },
      "source": [
        "data_test.drop(labels=corr_features, axis=1)"
      ],
      "execution_count": null,
      "outputs": []
    },
    {
      "cell_type": "code",
      "metadata": {
        "id": "0zuQOWYe-MH4"
      },
      "source": [
        "from sklearn.datasets import make_friedman1\n",
        "from sklearn.feature_selection import RFE\n",
        "from sklearn.svm import SVC\n",
        "\n",
        "svc = SVC(kernel=\"rbf\")\n",
        "rfe = RFE(estimator=svc, n_features_to_select=1000)\n",
        "rfe.fit(X_train, y_train)\n",
        "rfe.ranking_"
      ],
      "execution_count": null,
      "outputs": []
    },
    {
      "cell_type": "code",
      "metadata": {
        "id": "aaen_keG--4k"
      },
      "source": [
        ""
      ],
      "execution_count": null,
      "outputs": []
    }
  ]
}