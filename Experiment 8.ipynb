{
  "nbformat": 4,
  "nbformat_minor": 0,
  "metadata": {
    "colab": {
      "name": "AutoEnc KIRC Stage Coeff of Variation.ipynb",
      "provenance": [],
      "collapsed_sections": []
    },
    "kernelspec": {
      "name": "python3",
      "display_name": "Python 3"
    },
    "accelerator": "GPU"
  },
  "cells": [
    {
      "cell_type": "code",
      "metadata": {
        "id": "2cupGKt47Gze",
        "colab": {
          "base_uri": "https://localhost:8080/",
          "height": 136
        },
        "outputId": "e163267f-a42c-4fe7-99e5-5494261cd171"
      },
      "source": [
        "import numpy as np\n",
        "import pandas as pd\n",
        "np.random.seed(0)\n",
        "import os \n",
        "path = '/content/drive/My Drive/IIITH/GCN_KEGG/GCN_Dataset/CSV'\n",
        "os.listdir(path)"
      ],
      "execution_count": null,
      "outputs": [
        {
          "output_type": "execute_result",
          "data": {
            "text/plain": [
              "['Clinical_KICH_81_tumors.csv',\n",
              " 'Clinical_KIRP_290_tumors.csv',\n",
              " 'Clinical_KIRC_518_tumors.csv',\n",
              " 'KICH_81_tumors_log_transformed.csv',\n",
              " 'KIRP_290_tumors_log_transformed.csv',\n",
              " 'KIRC_518_tumors_log_transformed.csv',\n",
              " '.DS_Store']"
            ]
          },
          "metadata": {
            "tags": []
          },
          "execution_count": 3
        }
      ]
    },
    {
      "cell_type": "code",
      "metadata": {
        "id": "0zaUGajq7WYF"
      },
      "source": [
        "def load_dataset(path, filename, transpose=True):\n",
        "    '''\n",
        "        Loads the dataset and converts into its transpose with appropriate columns\n",
        "    '''\n",
        "    df = pd.read_csv(os.path.join(path, filename))\n",
        "    df.rename(columns={\"Unnamed: 0\": \"pid\"}, inplace=True)\n",
        "    if transpose:\n",
        "        df = df.astype({\"pid\": str})\n",
        "        df = df.T\n",
        "        new_header = df.iloc[0] \n",
        "        df = df[1:]\n",
        "        df.columns = new_header\n",
        "    return df"
      ],
      "execution_count": null,
      "outputs": []
    },
    {
      "cell_type": "code",
      "metadata": {
        "id": "GSL01FSC7ZgU"
      },
      "source": [
        "df_kirc = load_dataset(path,'KIRC_518_tumors_log_transformed.csv',transpose=True)\n",
        "patient_data_kirc = load_dataset(path,'Clinical_KIRC_518_tumors.csv',transpose=False)\n",
        "pid_kirc_drop1 = patient_data_kirc[patient_data_kirc['ajcc_pathologic_tumor_stage']=='[Not Available]'].pid\n",
        "pid_kirc_drop2 = patient_data_kirc[patient_data_kirc['ajcc_pathologic_tumor_stage']=='[Discrepancy]'].pid\n",
        "patient_data_kirc.drop(patient_data_kirc[patient_data_kirc['ajcc_pathologic_tumor_stage']=='[Not Available]'].index, inplace=True )\n",
        "patient_data_kirc.drop(patient_data_kirc[patient_data_kirc['ajcc_pathologic_tumor_stage']=='[Discrepancy]'].index, inplace=True )\n",
        "df_kirc.drop(pid_kirc_drop1,inplace=True)\n",
        "df_kirc.drop(pid_kirc_drop2,inplace=True)\n",
        "\n",
        "y_kirc=[]\n",
        "for pid in df_kirc.index:\n",
        "    stage=patient_data_kirc[patient_data_kirc['pid']==pid]['ajcc_pathologic_tumor_stage']\n",
        "    stage = stage.values[0]\n",
        "    if stage=='Stage I':\n",
        "        y_kirc.append(0)\n",
        "    elif stage=='Stage II':\n",
        "        y_kirc.append(0)\n",
        "    elif stage=='Stage III':\n",
        "        y_kirc.append(1)\n",
        "    elif stage=='Stage IV':\n",
        "        y_kirc.append(1)"
      ],
      "execution_count": null,
      "outputs": []
    },
    {
      "cell_type": "code",
      "metadata": {
        "id": "HZNUAm_g7fMg"
      },
      "source": [
        "from sklearn.model_selection import train_test_split\n"
      ],
      "execution_count": null,
      "outputs": []
    },
    {
      "cell_type": "code",
      "metadata": {
        "id": "ImnOJBHO7pQF"
      },
      "source": [
        "data = df_kirc\n",
        "y_kirc = np.asarray(y_kirc)\n",
        "data = data.assign(y=pd.Series(y_kirc).values)\n",
        "data = data.apply(pd.to_numeric)\n",
        "data_train, data_test, y_train, y_test = train_test_split(data, y_kirc, test_size=0.2, random_state=0, stratify=y_kirc)\n",
        "\n",
        "\n",
        "X_train = data_train.drop(['y'], axis=1)\n",
        "y_train = data_train['y']\n",
        "y_train = y_train.values\n",
        "\n",
        "X_test = data_test.drop(['y'], axis=1)\n",
        "y_test = data_test['y']\n",
        "y_test = y_test.values"
      ],
      "execution_count": null,
      "outputs": []
    },
    {
      "cell_type": "code",
      "metadata": {
        "id": "X0wUWAhV7_YP"
      },
      "source": [
        "import matplotlib.pyplot as plt\n",
        "\n",
        "from sklearn.preprocessing import MinMaxScaler, StandardScaler\n",
        "from sklearn.svm import LinearSVC\n",
        "from sklearn.pipeline import make_pipeline\n",
        "from sklearn.feature_selection import SelectKBest, f_classif"
      ],
      "execution_count": null,
      "outputs": []
    },
    {
      "cell_type": "code",
      "metadata": {
        "id": "0zcQxntpCsHh"
      },
      "source": [
        "sc = StandardScaler()\n",
        "X_train = sc.fit_transform(X_train)\n",
        "X_test = sc.fit_transform(X_test)"
      ],
      "execution_count": null,
      "outputs": []
    },
    {
      "cell_type": "code",
      "metadata": {
        "id": "JJaTr5gR9vM3",
        "colab": {
          "base_uri": "https://localhost:8080/",
          "height": 530
        },
        "outputId": "31e58f60-6dd4-4854-804c-57f9ddd013b9"
      },
      "source": [
        "fvalue_selector = SelectKBest(f_classif, k=3000)\n",
        "X_kbest = fvalue_selector.fit_transform(X_train, y_train)\n",
        "X_test_kbest = fvalue_selector.transform(X_test)"
      ],
      "execution_count": null,
      "outputs": [
        {
          "output_type": "stream",
          "text": [
            "/usr/local/lib/python3.6/dist-packages/sklearn/feature_selection/_univariate_selection.py:114: UserWarning: Features [    5     9    23  1749  1765  3526  4319  4370  4371  4373  4374  4375\n",
            "  4376  4655  4808  4814  4816  4817  4818  4823  4835  5288  7474  7661\n",
            "  7662  7663  7664  7665  8121  9304  9311  9312  9313  9315  9318  9350\n",
            "  9452 10121 10139 11130 11223 11958 12826 13520 14159 14160 14161 14162\n",
            " 14756 14758 15139 15141 15142 15564 16567 16569 16570 16572 16575 16576\n",
            " 16579 16580 16581 16606 16631 16639 16676 16698 16699 16700 16701 16702\n",
            " 16704 16705 16706 16707 16708 16709 16710 16711 16712 16713 16714 16715\n",
            " 16716 16717 16718 16719 16720 16721 16722 16723 16724 16725 16726 16727\n",
            " 16728 16729 16730 16731 16732 16733 16734 16735 16736 16737 16738 16739\n",
            " 16740 16741 16742 16743 16744 16745 16746 16747 16749 16750 16751 16752\n",
            " 16753 16754 16755 16756 16758 16759 16760 16761 16762 16763 16764 16765\n",
            " 16766 16767 16768 16769 16770 16771 16772 16773 16775 16776 16777 16778\n",
            " 16779 16780 16781 16782 16783 16784 16785 16786 16788 16789 16790 16791\n",
            " 16792 16793 16794 16796 16797 16799 16800 16801 16802 16803 16804 16805\n",
            " 16806 16807 16808 16809 16810 16811 16812 16813 16814 16817 16819 16820\n",
            " 16821 16822 16823 16824 16825 16827 16828 16830 16831 16832 16833 16834\n",
            " 16835 16836 16837 16838 16839 16840 16841 16842 16843 16844 16845 16846\n",
            " 16847 16848 16849 16850 16851 16852 16853 16854 16855 16856 16857 16858\n",
            " 16859 16860 16861 16862 16863 16864 16865 16866 16867 16868 16869 16870\n",
            " 16871 16872 16873 16874 16875 16876 16877 16878 16879 16880 16881 16882\n",
            " 16883 16884 16885 16886 16887 16888 16890 16891 16892 16893 16894 16895\n",
            " 16896 16897 16898 16899 16900 16901 16902 16903 16904 16905 16906 16907\n",
            " 16908 16909 16910 16911 16912 16913 16915 16916 16917 16918 16919 16921\n",
            " 16922 16923 16924 16926 16927 17145 17497 17903 18817 18820 18832 18905\n",
            " 18906 18907 18911 18912 18913 18914 18917 18918 18921 19452 19453 19454\n",
            " 19674] are constant.\n",
            "  UserWarning)\n",
            "/usr/local/lib/python3.6/dist-packages/sklearn/feature_selection/_univariate_selection.py:115: RuntimeWarning: invalid value encountered in true_divide\n",
            "  f = msb / msw\n"
          ],
          "name": "stderr"
        }
      ]
    },
    {
      "cell_type": "code",
      "metadata": {
        "id": "dICmqrmx_pii",
        "colab": {
          "base_uri": "https://localhost:8080/",
          "height": 34
        },
        "outputId": "9a63b601-7887-4bb4-cb75-af917f4df6b0"
      },
      "source": [
        "X_kbest.shape, X_test_kbest.shape"
      ],
      "execution_count": null,
      "outputs": [
        {
          "output_type": "execute_result",
          "data": {
            "text/plain": [
              "((412, 3000), (103, 3000))"
            ]
          },
          "metadata": {
            "tags": []
          },
          "execution_count": 11
        }
      ]
    },
    {
      "cell_type": "code",
      "metadata": {
        "id": "04jTKLJYBVyf",
        "colab": {
          "base_uri": "https://localhost:8080/",
          "height": 71
        },
        "outputId": "9eade32e-2bc9-4018-d00f-08fe0ef4d1e9"
      },
      "source": [
        "import tensorflow as tf\n",
        "from keras.layers import Input, Dense, BatchNormalization\n",
        "from keras.models import Model, Sequential\n",
        "from keras import regularizers\n",
        "from sklearn.linear_model import LogisticRegression\n",
        "from sklearn.svm import NuSVC, SVC\n",
        "from sklearn.neural_network import MLPClassifier\n",
        "from sklearn.ensemble import RandomForestClassifier, VotingClassifier, ExtraTreesClassifier\n",
        "from sklearn.naive_bayes import GaussianNB\n",
        "from sklearn.metrics import classification_report, accuracy_score\n",
        "from sklearn.manifold import TSNE\n",
        "from sklearn import preprocessing \n",
        "import matplotlib.pyplot as plt\n",
        "import seaborn as sns\n",
        "sns.set(style=\"whitegrid\")"
      ],
      "execution_count": null,
      "outputs": [
        {
          "output_type": "stream",
          "text": [
            "/usr/local/lib/python3.6/dist-packages/statsmodels/tools/_testing.py:19: FutureWarning: pandas.util.testing is deprecated. Use the functions in the public API at pandas.testing instead.\n",
            "  import pandas.util.testing as tm\n"
          ],
          "name": "stderr"
        }
      ]
    },
    {
      "cell_type": "code",
      "metadata": {
        "id": "qmS1RmLSXOow"
      },
      "source": [
        "## define the model\n",
        "\n",
        "def run_autoenc(x_train, y_train, x_test, y_test):\n",
        "  input_layer = Input(shape=(x_train.shape[1],))\n",
        "  encoded = Dense(256, activation='tanh', activity_regularizer=regularizers.l2(10e-5))(input_layer)\n",
        "  encoded = Dense(256, activation='tanh')(encoded)\n",
        "  encoded = Dense(128, activation='relu')(encoded)\n",
        "  decoded = Dense(128, activation='tanh')(encoded)\n",
        "  decoded = Dense(256, activation='tanh')(decoded)\n",
        "  decoded = Dense(256, activation='tanh')(decoded)\n",
        "  output_layer = Dense(x_train.shape[1], activation='relu')(decoded)\n",
        "\n",
        "  autoencoder = Model(input_layer, output_layer)\n",
        "  autoencoder.compile(optimizer=\"adam\", loss=\"mse\")\n",
        "\n",
        "  x_early, x_late = x_train[y_train == 0], x_train[y_train == 1]\n",
        "  autoencoder.fit(x_early, x_early, epochs = 15, validation_split=0, batch_size=4, verbose=1)\n",
        "\n",
        "  hidden_representation = Sequential()\n",
        "  hidden_representation.add(autoencoder.layers[0])\n",
        "  hidden_representation.add(autoencoder.layers[1])\n",
        "  hidden_representation.add(autoencoder.layers[2])\n",
        "  hidden_representation.add(autoencoder.layers[3])\n",
        "\n",
        "\n",
        "\n",
        "\n",
        "  early_hid_rep = hidden_representation.predict(x_early)\n",
        "  late_hid_rep = hidden_representation.predict(x_late)\n",
        "\n",
        "  rep_x = np.append(early_hid_rep, late_hid_rep, axis = 0)\n",
        "  y_n = np.zeros(early_hid_rep.shape[0])\n",
        "  y_f = np.ones(late_hid_rep.shape[0])\n",
        "  rep_y = np.append(y_n, y_f)\n",
        "\n",
        "  # train_x, val_x, train_y, val_y = train_test_split(rep_x, rep_y, test_size=0.1, random_state=0, stratify=rep_y)\n",
        "  # clf1 = LogisticRegression(max_iter=500, random_state=0)\n",
        "  # scores = cross_val_score(clf1, rep_x, rep_y, cv=10)\n",
        "  # print(\"val\",np.mean(scores))\n",
        "\n",
        "  clf1 = LogisticRegression(max_iter=500, random_state=0).fit(rep_x, rep_y)\n",
        "\n",
        "  test_rep_x = hidden_representation.predict(x_test)\n",
        "\n",
        "  pred_y_test1 = clf1.predict(test_rep_x)\n",
        "\n",
        "  print(\"test\",accuracy_score(y_test, pred_y_test1))\n",
        "\n"
      ],
      "execution_count": null,
      "outputs": []
    },
    {
      "cell_type": "code",
      "metadata": {
        "id": "ljwBrbulXO4M",
        "colab": {
          "base_uri": "https://localhost:8080/",
          "height": 544
        },
        "outputId": "1745898b-224d-4ef7-c231-c5e6c572a9e9"
      },
      "source": [
        "run_autoenc(X_kbest, y_train, X_test_kbest, y_test)"
      ],
      "execution_count": null,
      "outputs": [
        {
          "output_type": "stream",
          "text": [
            "Epoch 1/15\n",
            "63/63 [==============================] - 0s 3ms/step - loss: 0.8622\n",
            "Epoch 2/15\n",
            "63/63 [==============================] - 0s 2ms/step - loss: 0.8110\n",
            "Epoch 3/15\n",
            "63/63 [==============================] - 0s 2ms/step - loss: 0.7910\n",
            "Epoch 4/15\n",
            "63/63 [==============================] - 0s 3ms/step - loss: 0.7657\n",
            "Epoch 5/15\n",
            "63/63 [==============================] - 0s 2ms/step - loss: 0.7495\n",
            "Epoch 6/15\n",
            "63/63 [==============================] - 0s 2ms/step - loss: 0.7402\n",
            "Epoch 7/15\n",
            "63/63 [==============================] - 0s 2ms/step - loss: 0.7328\n",
            "Epoch 8/15\n",
            "63/63 [==============================] - 0s 3ms/step - loss: 0.7273\n",
            "Epoch 9/15\n",
            "63/63 [==============================] - 0s 3ms/step - loss: 0.7190\n",
            "Epoch 10/15\n",
            "63/63 [==============================] - 0s 3ms/step - loss: 0.7166\n",
            "Epoch 11/15\n",
            "63/63 [==============================] - 0s 3ms/step - loss: 0.7068\n",
            "Epoch 12/15\n",
            "63/63 [==============================] - 0s 2ms/step - loss: 0.6968\n",
            "Epoch 13/15\n",
            "63/63 [==============================] - 0s 2ms/step - loss: 0.6881\n",
            "Epoch 14/15\n",
            "63/63 [==============================] - 0s 3ms/step - loss: 0.6846\n",
            "Epoch 15/15\n",
            "63/63 [==============================] - 0s 2ms/step - loss: 0.6768\n",
            "test 0.6213592233009708\n"
          ],
          "name": "stdout"
        }
      ]
    },
    {
      "cell_type": "code",
      "metadata": {
        "id": "Cq5nLEf5YXVk"
      },
      "source": [
        ""
      ],
      "execution_count": null,
      "outputs": []
    },
    {
      "cell_type": "code",
      "metadata": {
        "id": "o-3hIbRBBV33"
      },
      "source": [
        "from sklearn.linear_model import Lasso\n",
        "from sklearn.feature_selection import SelectFromModel"
      ],
      "execution_count": null,
      "outputs": []
    },
    {
      "cell_type": "code",
      "metadata": {
        "id": "zTHC94yKBV-7",
        "colab": {
          "base_uri": "https://localhost:8080/",
          "height": 119
        },
        "outputId": "dd926058-689e-439e-a79d-2a6344a13b16"
      },
      "source": [
        "sel_ = SelectFromModel(Lasso(alpha=0.01))\n",
        "X_train = data_train.drop(['y'], axis=1)\n",
        "y_train = data_train['y']\n",
        "y_train = y_train.values\n",
        "\n",
        "X_test = data_test.drop(['y'], axis=1)\n",
        "y_test = data_test['y']\n",
        "y_test = y_test.values\n",
        "sel_.fit(sc.fit_transform(X_train), y_train)"
      ],
      "execution_count": null,
      "outputs": [
        {
          "output_type": "execute_result",
          "data": {
            "text/plain": [
              "SelectFromModel(estimator=Lasso(alpha=0.01, copy_X=True, fit_intercept=True,\n",
              "                                max_iter=1000, normalize=False, positive=False,\n",
              "                                precompute=False, random_state=None,\n",
              "                                selection='cyclic', tol=0.0001,\n",
              "                                warm_start=False),\n",
              "                max_features=None, norm_order=1, prefit=False, threshold=None)"
            ]
          },
          "metadata": {
            "tags": []
          },
          "execution_count": 16
        }
      ]
    },
    {
      "cell_type": "code",
      "metadata": {
        "id": "vTfLfTYDBV9O",
        "colab": {
          "base_uri": "https://localhost:8080/",
          "height": 68
        },
        "outputId": "b66897f0-22ee-4504-d631-434bda90f748"
      },
      "source": [
        "# make a list with the selected features and print the outputs\n",
        "selected_feat = X_train.columns[(sel_.get_support())]\n",
        "\n",
        "print('total features: {}'.format((X_train.shape[1])))\n",
        "print('selected features: {}'.format(len(selected_feat)))\n",
        "print('features with coefficients shrank to zero: {}'.format(\n",
        "    np.sum(sel_.estimator_.coef_ == 0)))"
      ],
      "execution_count": null,
      "outputs": [
        {
          "output_type": "stream",
          "text": [
            "total features: 20531\n",
            "selected features: 290\n",
            "features with coefficients shrank to zero: 20241\n"
          ],
          "name": "stdout"
        }
      ]
    },
    {
      "cell_type": "code",
      "metadata": {
        "id": "iUbWE2P-LOdB"
      },
      "source": [
        "\n",
        "X_train = data_train[selected_feat]\n",
        "y_train = data_train['y']\n",
        "y_train = y_train.values\n",
        "\n",
        "\n",
        "X_test = data_test[selected_feat]\n",
        "y_test = data_test['y']\n",
        "y_test = y_test.values"
      ],
      "execution_count": null,
      "outputs": []
    },
    {
      "cell_type": "code",
      "metadata": {
        "id": "-w2UeilRONhj"
      },
      "source": [
        "sc = StandardScaler()\n",
        "X_train = sc.fit_transform(X_train)\n",
        "X_test = sc.fit_transform(X_test)"
      ],
      "execution_count": null,
      "outputs": []
    },
    {
      "cell_type": "code",
      "metadata": {
        "id": "EcfGPeg7ONqL",
        "colab": {
          "base_uri": "https://localhost:8080/",
          "height": 544
        },
        "outputId": "a4be5df5-9889-4344-a977-6472e65d6b96"
      },
      "source": [
        "run_autoenc(X_train, y_train, X_test, y_test)"
      ],
      "execution_count": null,
      "outputs": [
        {
          "output_type": "stream",
          "text": [
            "Epoch 1/15\n",
            "63/63 [==============================] - 0s 3ms/step - loss: 0.9405\n",
            "Epoch 2/15\n",
            "63/63 [==============================] - 0s 2ms/step - loss: 0.8654\n",
            "Epoch 3/15\n",
            "63/63 [==============================] - 0s 2ms/step - loss: 0.8160\n",
            "Epoch 4/15\n",
            "63/63 [==============================] - 0s 2ms/step - loss: 0.7802\n",
            "Epoch 5/15\n",
            "63/63 [==============================] - 0s 2ms/step - loss: 0.7430\n",
            "Epoch 6/15\n",
            "63/63 [==============================] - 0s 2ms/step - loss: 0.7077\n",
            "Epoch 7/15\n",
            "63/63 [==============================] - 0s 3ms/step - loss: 0.6797\n",
            "Epoch 8/15\n",
            "63/63 [==============================] - 0s 2ms/step - loss: 0.6541\n",
            "Epoch 9/15\n",
            "63/63 [==============================] - 0s 2ms/step - loss: 0.6328\n",
            "Epoch 10/15\n",
            "63/63 [==============================] - 0s 2ms/step - loss: 0.6156\n",
            "Epoch 11/15\n",
            "63/63 [==============================] - 0s 2ms/step - loss: 0.5988\n",
            "Epoch 12/15\n",
            "63/63 [==============================] - 0s 2ms/step - loss: 0.5830\n",
            "Epoch 13/15\n",
            "63/63 [==============================] - 0s 2ms/step - loss: 0.5687\n",
            "Epoch 14/15\n",
            "63/63 [==============================] - 0s 3ms/step - loss: 0.5572\n",
            "Epoch 15/15\n",
            "63/63 [==============================] - 0s 2ms/step - loss: 0.5507\n",
            "test 0.5825242718446602\n"
          ],
          "name": "stdout"
        }
      ]
    },
    {
      "cell_type": "code",
      "metadata": {
        "id": "JaVIL0BbONyt"
      },
      "source": [
        ""
      ],
      "execution_count": null,
      "outputs": []
    },
    {
      "cell_type": "code",
      "metadata": {
        "id": "lfyKbJI7ON76",
        "colab": {
          "base_uri": "https://localhost:8080/",
          "height": 232
        },
        "outputId": "19d2773a-b128-4664-f283-52d034ba3479"
      },
      "source": [
        "# creating set to hold the correlated features\n",
        "corr_features = set()\n",
        "\n",
        "# create the correlation matrix (default to pearson)\n",
        "corr_matrix = data_train.corr(method='kendall')\n",
        "\n",
        "# optional: display a heatmap of the correlation matrix\n",
        "plt.figure(figsize=(11,11))\n",
        "sns.heatmap(corr_matrix)\n",
        "\n",
        "for i in range(len(corr_matrix .columns)):\n",
        "    for j in range(i):\n",
        "        if abs(corr_matrix.iloc[i, j]) > 0.8:\n",
        "            colname = corr_matrix.columns[i]\n",
        "            corr_features.add(colname)\n",
        "            \n"
      ],
      "execution_count": null,
      "outputs": [
        {
          "output_type": "error",
          "ename": "NameError",
          "evalue": "ignored",
          "traceback": [
            "\u001b[0;31m---------------------------------------------------------------------------\u001b[0m",
            "\u001b[0;31mNameError\u001b[0m                                 Traceback (most recent call last)",
            "\u001b[0;32m<ipython-input-1-130a01e60aee>\u001b[0m in \u001b[0;36m<module>\u001b[0;34m()\u001b[0m\n\u001b[1;32m      3\u001b[0m \u001b[0;34m\u001b[0m\u001b[0m\n\u001b[1;32m      4\u001b[0m \u001b[0;31m# create the correlation matrix (default to pearson)\u001b[0m\u001b[0;34m\u001b[0m\u001b[0;34m\u001b[0m\u001b[0;34m\u001b[0m\u001b[0m\n\u001b[0;32m----> 5\u001b[0;31m \u001b[0mcorr_matrix\u001b[0m \u001b[0;34m=\u001b[0m \u001b[0mdata_train\u001b[0m\u001b[0;34m.\u001b[0m\u001b[0mcorr\u001b[0m\u001b[0;34m(\u001b[0m\u001b[0mmethod\u001b[0m\u001b[0;34m=\u001b[0m\u001b[0;34m'kendall'\u001b[0m\u001b[0;34m)\u001b[0m\u001b[0;34m\u001b[0m\u001b[0;34m\u001b[0m\u001b[0m\n\u001b[0m\u001b[1;32m      6\u001b[0m \u001b[0;34m\u001b[0m\u001b[0m\n\u001b[1;32m      7\u001b[0m \u001b[0;31m# optional: display a heatmap of the correlation matrix\u001b[0m\u001b[0;34m\u001b[0m\u001b[0;34m\u001b[0m\u001b[0;34m\u001b[0m\u001b[0m\n",
            "\u001b[0;31mNameError\u001b[0m: name 'data_train' is not defined"
          ]
        }
      ]
    },
    {
      "cell_type": "code",
      "metadata": {
        "id": "C-lDs1O8OODk"
      },
      "source": [
        "data_train.drop(labels=corr_features, axis=1)\n"
      ],
      "execution_count": null,
      "outputs": []
    },
    {
      "cell_type": "code",
      "metadata": {
        "id": "yTDTCp-NOOLu"
      },
      "source": [
        "data_test.drop(labels=corr_features, axis=1)"
      ],
      "execution_count": null,
      "outputs": []
    },
    {
      "cell_type": "code",
      "metadata": {
        "id": "0zuQOWYe-MH4"
      },
      "source": [
        "from sklearn.datasets import make_friedman1\n",
        "from sklearn.feature_selection import RFE\n",
        "from sklearn.svm import SVC\n",
        "\n",
        "svc = SVC(kernel=\"rbf\")\n",
        "rfe = RFE(estimator=svc, n_features_to_select=1000)\n",
        "rfe.fit(X_train, y_train)\n",
        "rfe.ranking_"
      ],
      "execution_count": null,
      "outputs": []
    },
    {
      "cell_type": "code",
      "metadata": {
        "id": "aaen_keG--4k"
      },
      "source": [
        ""
      ],
      "execution_count": null,
      "outputs": []
    }
  ]
}