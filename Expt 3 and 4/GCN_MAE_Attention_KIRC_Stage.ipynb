{
  "nbformat": 4,
  "nbformat_minor": 0,
  "metadata": {
    "colab": {
      "name": "GCN_MAE_Attention_KIRC_Stage.ipynb",
      "provenance": [],
      "collapsed_sections": [],
      "toc_visible": true
    },
    "kernelspec": {
      "name": "python3",
      "display_name": "Python 3"
    },
    "accelerator": "GPU"
  },
  "cells": [
    {
      "cell_type": "code",
      "metadata": {
        "id": "SIj6v4m3nXGw",
        "colab_type": "code",
        "colab": {}
      },
      "source": [
        "import numpy as np\n",
        "import pandas as pd\n",
        "import tensorflow as tf\n",
        "np.random.seed(42)\n",
        "tf.random.set_seed(42)"
      ],
      "execution_count": 1,
      "outputs": []
    },
    {
      "cell_type": "code",
      "metadata": {
        "id": "Bb5i9BOIobpS",
        "colab_type": "code",
        "colab": {}
      },
      "source": [
        "import os"
      ],
      "execution_count": 2,
      "outputs": []
    },
    {
      "cell_type": "code",
      "metadata": {
        "id": "2XWpVXAfBkI4",
        "colab_type": "code",
        "colab": {
          "base_uri": "https://localhost:8080/",
          "height": 544
        },
        "outputId": "9e7345de-316b-44f1-84d1-6c5899424e14"
      },
      "source": [
        "from tensorflow.python.client import device_lib\n",
        "print(device_lib.list_local_devices())"
      ],
      "execution_count": 3,
      "outputs": [
        {
          "output_type": "stream",
          "text": [
            "[name: \"/device:CPU:0\"\n",
            "device_type: \"CPU\"\n",
            "memory_limit: 268435456\n",
            "locality {\n",
            "}\n",
            "incarnation: 5084242313544175318\n",
            ", name: \"/device:XLA_CPU:0\"\n",
            "device_type: \"XLA_CPU\"\n",
            "memory_limit: 17179869184\n",
            "locality {\n",
            "}\n",
            "incarnation: 3596132452136388137\n",
            "physical_device_desc: \"device: XLA_CPU device\"\n",
            ", name: \"/device:XLA_GPU:0\"\n",
            "device_type: \"XLA_GPU\"\n",
            "memory_limit: 17179869184\n",
            "locality {\n",
            "}\n",
            "incarnation: 17520298844414686951\n",
            "physical_device_desc: \"device: XLA_GPU device\"\n",
            ", name: \"/device:GPU:0\"\n",
            "device_type: \"GPU\"\n",
            "memory_limit: 14648777152\n",
            "locality {\n",
            "  bus_id: 1\n",
            "  links {\n",
            "  }\n",
            "}\n",
            "incarnation: 9464058538284186368\n",
            "physical_device_desc: \"device: 0, name: Tesla T4, pci bus id: 0000:00:04.0, compute capability: 7.5\"\n",
            "]\n"
          ],
          "name": "stdout"
        }
      ]
    },
    {
      "cell_type": "code",
      "metadata": {
        "id": "2SGfUwtfBzpf",
        "colab_type": "code",
        "colab": {
          "base_uri": "https://localhost:8080/",
          "height": 34
        },
        "outputId": "67c9d098-ff4b-4a49-e099-e9c2eecf49c8"
      },
      "source": [
        "print(\"Num GPUs Available: \", len(tf.config.experimental.list_physical_devices('GPU')))\n",
        "# tf.debugging.set_log_device_placement(True)"
      ],
      "execution_count": 4,
      "outputs": [
        {
          "output_type": "stream",
          "text": [
            "Num GPUs Available:  1\n"
          ],
          "name": "stdout"
        }
      ]
    },
    {
      "cell_type": "code",
      "metadata": {
        "id": "kr9O-MzWn3ej",
        "colab_type": "code",
        "colab": {}
      },
      "source": [
        "path = '/content/drive/My Drive/IIITH/GCN_KEGG/GCN_patient_matrix_KIRC_stage'"
      ],
      "execution_count": 5,
      "outputs": []
    },
    {
      "cell_type": "code",
      "metadata": {
        "id": "mRgQwB_PolGh",
        "colab_type": "code",
        "colab": {}
      },
      "source": [
        "labels = '/content/drive/My Drive/IIITH/GCN_KEGG/patients_labels_KIRC_stage.csv'\n",
        "y = pd.read_csv(labels)"
      ],
      "execution_count": 6,
      "outputs": []
    },
    {
      "cell_type": "code",
      "metadata": {
        "id": "sLUl-y7lpi8l",
        "colab_type": "code",
        "colab": {}
      },
      "source": [
        "X = []"
      ],
      "execution_count": 7,
      "outputs": []
    },
    {
      "cell_type": "code",
      "metadata": {
        "id": "ncUn8dKQpPjS",
        "colab_type": "code",
        "colab": {
          "base_uri": "https://localhost:8080/",
          "height": 1000
        },
        "outputId": "29146a8c-89cb-47f9-a644-edadd2695eeb"
      },
      "source": [
        "for patient in range(515):\n",
        "  filename = str(patient) + '.csv'\n",
        "  print(filename)\n",
        "  df = pd.read_csv(os.path.join(path,str(filename)), header=None)\n",
        "  X.append(df.to_numpy())"
      ],
      "execution_count": 8,
      "outputs": [
        {
          "output_type": "stream",
          "text": [
            "0.csv\n",
            "1.csv\n",
            "2.csv\n",
            "3.csv\n",
            "4.csv\n",
            "5.csv\n",
            "6.csv\n",
            "7.csv\n",
            "8.csv\n",
            "9.csv\n",
            "10.csv\n",
            "11.csv\n",
            "12.csv\n",
            "13.csv\n",
            "14.csv\n",
            "15.csv\n",
            "16.csv\n",
            "17.csv\n",
            "18.csv\n",
            "19.csv\n",
            "20.csv\n",
            "21.csv\n",
            "22.csv\n",
            "23.csv\n",
            "24.csv\n",
            "25.csv\n",
            "26.csv\n",
            "27.csv\n",
            "28.csv\n",
            "29.csv\n",
            "30.csv\n",
            "31.csv\n",
            "32.csv\n",
            "33.csv\n",
            "34.csv\n",
            "35.csv\n",
            "36.csv\n",
            "37.csv\n",
            "38.csv\n",
            "39.csv\n",
            "40.csv\n",
            "41.csv\n",
            "42.csv\n",
            "43.csv\n",
            "44.csv\n",
            "45.csv\n",
            "46.csv\n",
            "47.csv\n",
            "48.csv\n",
            "49.csv\n",
            "50.csv\n",
            "51.csv\n",
            "52.csv\n",
            "53.csv\n",
            "54.csv\n",
            "55.csv\n",
            "56.csv\n",
            "57.csv\n",
            "58.csv\n",
            "59.csv\n",
            "60.csv\n",
            "61.csv\n",
            "62.csv\n",
            "63.csv\n",
            "64.csv\n",
            "65.csv\n",
            "66.csv\n",
            "67.csv\n",
            "68.csv\n",
            "69.csv\n",
            "70.csv\n",
            "71.csv\n",
            "72.csv\n",
            "73.csv\n",
            "74.csv\n",
            "75.csv\n",
            "76.csv\n",
            "77.csv\n",
            "78.csv\n",
            "79.csv\n",
            "80.csv\n",
            "81.csv\n",
            "82.csv\n",
            "83.csv\n",
            "84.csv\n",
            "85.csv\n",
            "86.csv\n",
            "87.csv\n",
            "88.csv\n",
            "89.csv\n",
            "90.csv\n",
            "91.csv\n",
            "92.csv\n",
            "93.csv\n",
            "94.csv\n",
            "95.csv\n",
            "96.csv\n",
            "97.csv\n",
            "98.csv\n",
            "99.csv\n",
            "100.csv\n",
            "101.csv\n",
            "102.csv\n",
            "103.csv\n",
            "104.csv\n",
            "105.csv\n",
            "106.csv\n",
            "107.csv\n",
            "108.csv\n",
            "109.csv\n",
            "110.csv\n",
            "111.csv\n",
            "112.csv\n",
            "113.csv\n",
            "114.csv\n",
            "115.csv\n",
            "116.csv\n",
            "117.csv\n",
            "118.csv\n",
            "119.csv\n",
            "120.csv\n",
            "121.csv\n",
            "122.csv\n",
            "123.csv\n",
            "124.csv\n",
            "125.csv\n",
            "126.csv\n",
            "127.csv\n",
            "128.csv\n",
            "129.csv\n",
            "130.csv\n",
            "131.csv\n",
            "132.csv\n",
            "133.csv\n",
            "134.csv\n",
            "135.csv\n",
            "136.csv\n",
            "137.csv\n",
            "138.csv\n",
            "139.csv\n",
            "140.csv\n",
            "141.csv\n",
            "142.csv\n",
            "143.csv\n",
            "144.csv\n",
            "145.csv\n",
            "146.csv\n",
            "147.csv\n",
            "148.csv\n",
            "149.csv\n",
            "150.csv\n",
            "151.csv\n",
            "152.csv\n",
            "153.csv\n",
            "154.csv\n",
            "155.csv\n",
            "156.csv\n",
            "157.csv\n",
            "158.csv\n",
            "159.csv\n",
            "160.csv\n",
            "161.csv\n",
            "162.csv\n",
            "163.csv\n",
            "164.csv\n",
            "165.csv\n",
            "166.csv\n",
            "167.csv\n",
            "168.csv\n",
            "169.csv\n",
            "170.csv\n",
            "171.csv\n",
            "172.csv\n",
            "173.csv\n",
            "174.csv\n",
            "175.csv\n",
            "176.csv\n",
            "177.csv\n",
            "178.csv\n",
            "179.csv\n",
            "180.csv\n",
            "181.csv\n",
            "182.csv\n",
            "183.csv\n",
            "184.csv\n",
            "185.csv\n",
            "186.csv\n",
            "187.csv\n",
            "188.csv\n",
            "189.csv\n",
            "190.csv\n",
            "191.csv\n",
            "192.csv\n",
            "193.csv\n",
            "194.csv\n",
            "195.csv\n",
            "196.csv\n",
            "197.csv\n",
            "198.csv\n",
            "199.csv\n",
            "200.csv\n",
            "201.csv\n",
            "202.csv\n",
            "203.csv\n",
            "204.csv\n",
            "205.csv\n",
            "206.csv\n",
            "207.csv\n",
            "208.csv\n",
            "209.csv\n",
            "210.csv\n",
            "211.csv\n",
            "212.csv\n",
            "213.csv\n",
            "214.csv\n",
            "215.csv\n",
            "216.csv\n",
            "217.csv\n",
            "218.csv\n",
            "219.csv\n",
            "220.csv\n",
            "221.csv\n",
            "222.csv\n",
            "223.csv\n",
            "224.csv\n",
            "225.csv\n",
            "226.csv\n",
            "227.csv\n",
            "228.csv\n",
            "229.csv\n",
            "230.csv\n",
            "231.csv\n",
            "232.csv\n",
            "233.csv\n",
            "234.csv\n",
            "235.csv\n",
            "236.csv\n",
            "237.csv\n",
            "238.csv\n",
            "239.csv\n",
            "240.csv\n",
            "241.csv\n",
            "242.csv\n",
            "243.csv\n",
            "244.csv\n",
            "245.csv\n",
            "246.csv\n",
            "247.csv\n",
            "248.csv\n",
            "249.csv\n",
            "250.csv\n",
            "251.csv\n",
            "252.csv\n",
            "253.csv\n",
            "254.csv\n",
            "255.csv\n",
            "256.csv\n",
            "257.csv\n",
            "258.csv\n",
            "259.csv\n",
            "260.csv\n",
            "261.csv\n",
            "262.csv\n",
            "263.csv\n",
            "264.csv\n",
            "265.csv\n",
            "266.csv\n",
            "267.csv\n",
            "268.csv\n",
            "269.csv\n",
            "270.csv\n",
            "271.csv\n",
            "272.csv\n",
            "273.csv\n",
            "274.csv\n",
            "275.csv\n",
            "276.csv\n",
            "277.csv\n",
            "278.csv\n",
            "279.csv\n",
            "280.csv\n",
            "281.csv\n",
            "282.csv\n",
            "283.csv\n",
            "284.csv\n",
            "285.csv\n",
            "286.csv\n",
            "287.csv\n",
            "288.csv\n",
            "289.csv\n",
            "290.csv\n",
            "291.csv\n",
            "292.csv\n",
            "293.csv\n",
            "294.csv\n",
            "295.csv\n",
            "296.csv\n",
            "297.csv\n",
            "298.csv\n",
            "299.csv\n",
            "300.csv\n",
            "301.csv\n",
            "302.csv\n",
            "303.csv\n",
            "304.csv\n",
            "305.csv\n",
            "306.csv\n",
            "307.csv\n",
            "308.csv\n",
            "309.csv\n",
            "310.csv\n",
            "311.csv\n",
            "312.csv\n",
            "313.csv\n",
            "314.csv\n",
            "315.csv\n",
            "316.csv\n",
            "317.csv\n",
            "318.csv\n",
            "319.csv\n",
            "320.csv\n",
            "321.csv\n",
            "322.csv\n",
            "323.csv\n",
            "324.csv\n",
            "325.csv\n",
            "326.csv\n",
            "327.csv\n",
            "328.csv\n",
            "329.csv\n",
            "330.csv\n",
            "331.csv\n",
            "332.csv\n",
            "333.csv\n",
            "334.csv\n",
            "335.csv\n",
            "336.csv\n",
            "337.csv\n",
            "338.csv\n",
            "339.csv\n",
            "340.csv\n",
            "341.csv\n",
            "342.csv\n",
            "343.csv\n",
            "344.csv\n",
            "345.csv\n",
            "346.csv\n",
            "347.csv\n",
            "348.csv\n",
            "349.csv\n",
            "350.csv\n",
            "351.csv\n",
            "352.csv\n",
            "353.csv\n",
            "354.csv\n",
            "355.csv\n",
            "356.csv\n",
            "357.csv\n",
            "358.csv\n",
            "359.csv\n",
            "360.csv\n",
            "361.csv\n",
            "362.csv\n",
            "363.csv\n",
            "364.csv\n",
            "365.csv\n",
            "366.csv\n",
            "367.csv\n",
            "368.csv\n",
            "369.csv\n",
            "370.csv\n",
            "371.csv\n",
            "372.csv\n",
            "373.csv\n",
            "374.csv\n",
            "375.csv\n",
            "376.csv\n",
            "377.csv\n",
            "378.csv\n",
            "379.csv\n",
            "380.csv\n",
            "381.csv\n",
            "382.csv\n",
            "383.csv\n",
            "384.csv\n",
            "385.csv\n",
            "386.csv\n",
            "387.csv\n",
            "388.csv\n",
            "389.csv\n",
            "390.csv\n",
            "391.csv\n",
            "392.csv\n",
            "393.csv\n",
            "394.csv\n",
            "395.csv\n",
            "396.csv\n",
            "397.csv\n",
            "398.csv\n",
            "399.csv\n",
            "400.csv\n",
            "401.csv\n",
            "402.csv\n",
            "403.csv\n",
            "404.csv\n",
            "405.csv\n",
            "406.csv\n",
            "407.csv\n",
            "408.csv\n",
            "409.csv\n",
            "410.csv\n",
            "411.csv\n",
            "412.csv\n",
            "413.csv\n",
            "414.csv\n",
            "415.csv\n",
            "416.csv\n",
            "417.csv\n",
            "418.csv\n",
            "419.csv\n",
            "420.csv\n",
            "421.csv\n",
            "422.csv\n",
            "423.csv\n",
            "424.csv\n",
            "425.csv\n",
            "426.csv\n",
            "427.csv\n",
            "428.csv\n",
            "429.csv\n",
            "430.csv\n",
            "431.csv\n",
            "432.csv\n",
            "433.csv\n",
            "434.csv\n",
            "435.csv\n",
            "436.csv\n",
            "437.csv\n",
            "438.csv\n",
            "439.csv\n",
            "440.csv\n",
            "441.csv\n",
            "442.csv\n",
            "443.csv\n",
            "444.csv\n",
            "445.csv\n",
            "446.csv\n",
            "447.csv\n",
            "448.csv\n",
            "449.csv\n",
            "450.csv\n",
            "451.csv\n",
            "452.csv\n",
            "453.csv\n",
            "454.csv\n",
            "455.csv\n",
            "456.csv\n",
            "457.csv\n",
            "458.csv\n",
            "459.csv\n",
            "460.csv\n",
            "461.csv\n",
            "462.csv\n",
            "463.csv\n",
            "464.csv\n",
            "465.csv\n",
            "466.csv\n",
            "467.csv\n",
            "468.csv\n",
            "469.csv\n",
            "470.csv\n",
            "471.csv\n",
            "472.csv\n",
            "473.csv\n",
            "474.csv\n",
            "475.csv\n",
            "476.csv\n",
            "477.csv\n",
            "478.csv\n",
            "479.csv\n",
            "480.csv\n",
            "481.csv\n",
            "482.csv\n",
            "483.csv\n",
            "484.csv\n",
            "485.csv\n",
            "486.csv\n",
            "487.csv\n",
            "488.csv\n",
            "489.csv\n",
            "490.csv\n",
            "491.csv\n",
            "492.csv\n",
            "493.csv\n",
            "494.csv\n",
            "495.csv\n",
            "496.csv\n",
            "497.csv\n",
            "498.csv\n",
            "499.csv\n",
            "500.csv\n",
            "501.csv\n",
            "502.csv\n",
            "503.csv\n",
            "504.csv\n",
            "505.csv\n",
            "506.csv\n",
            "507.csv\n",
            "508.csv\n",
            "509.csv\n",
            "510.csv\n",
            "511.csv\n",
            "512.csv\n",
            "513.csv\n",
            "514.csv\n"
          ],
          "name": "stdout"
        }
      ]
    },
    {
      "cell_type": "code",
      "metadata": {
        "id": "Se7UEOUKqHxg",
        "colab_type": "code",
        "colab": {}
      },
      "source": [
        "X = np.asarray(X)"
      ],
      "execution_count": 9,
      "outputs": []
    },
    {
      "cell_type": "code",
      "metadata": {
        "id": "jKmM2d6UvSll",
        "colab_type": "code",
        "colab": {
          "base_uri": "https://localhost:8080/",
          "height": 34
        },
        "outputId": "0a81e1dc-93ee-4a58-96b3-ab2eab70356f"
      },
      "source": [
        "X.shape"
      ],
      "execution_count": 10,
      "outputs": [
        {
          "output_type": "execute_result",
          "data": {
            "text/plain": [
              "(515, 110, 2)"
            ]
          },
          "metadata": {
            "tags": []
          },
          "execution_count": 10
        }
      ]
    },
    {
      "cell_type": "code",
      "metadata": {
        "id": "O0i8Dj00fy8u",
        "colab_type": "code",
        "colab": {
          "base_uri": "https://localhost:8080/",
          "height": 419
        },
        "outputId": "668215e1-444a-420d-e4b2-5fd52b5aa64a"
      },
      "source": [
        "y\n"
      ],
      "execution_count": 11,
      "outputs": [
        {
          "output_type": "execute_result",
          "data": {
            "text/html": [
              "<div>\n",
              "<style scoped>\n",
              "    .dataframe tbody tr th:only-of-type {\n",
              "        vertical-align: middle;\n",
              "    }\n",
              "\n",
              "    .dataframe tbody tr th {\n",
              "        vertical-align: top;\n",
              "    }\n",
              "\n",
              "    .dataframe thead th {\n",
              "        text-align: right;\n",
              "    }\n",
              "</style>\n",
              "<table border=\"1\" class=\"dataframe\">\n",
              "  <thead>\n",
              "    <tr style=\"text-align: right;\">\n",
              "      <th></th>\n",
              "      <th>Unnamed: 0</th>\n",
              "      <th>y</th>\n",
              "    </tr>\n",
              "  </thead>\n",
              "  <tbody>\n",
              "    <tr>\n",
              "      <th>0</th>\n",
              "      <td>TCGA-3Z-A93Z</td>\n",
              "      <td>0</td>\n",
              "    </tr>\n",
              "    <tr>\n",
              "      <th>1</th>\n",
              "      <td>TCGA-6D-AA2E</td>\n",
              "      <td>0</td>\n",
              "    </tr>\n",
              "    <tr>\n",
              "      <th>2</th>\n",
              "      <td>TCGA-A3-3306</td>\n",
              "      <td>0</td>\n",
              "    </tr>\n",
              "    <tr>\n",
              "      <th>3</th>\n",
              "      <td>TCGA-A3-3307</td>\n",
              "      <td>1</td>\n",
              "    </tr>\n",
              "    <tr>\n",
              "      <th>4</th>\n",
              "      <td>TCGA-A3-3308</td>\n",
              "      <td>1</td>\n",
              "    </tr>\n",
              "    <tr>\n",
              "      <th>...</th>\n",
              "      <td>...</td>\n",
              "      <td>...</td>\n",
              "    </tr>\n",
              "    <tr>\n",
              "      <th>510</th>\n",
              "      <td>TCGA-GK-A6C7</td>\n",
              "      <td>0</td>\n",
              "    </tr>\n",
              "    <tr>\n",
              "      <th>511</th>\n",
              "      <td>TCGA-MM-A564</td>\n",
              "      <td>0</td>\n",
              "    </tr>\n",
              "    <tr>\n",
              "      <th>512</th>\n",
              "      <td>TCGA-MM-A84U</td>\n",
              "      <td>0</td>\n",
              "    </tr>\n",
              "    <tr>\n",
              "      <th>513</th>\n",
              "      <td>TCGA-MW-A4EC</td>\n",
              "      <td>0</td>\n",
              "    </tr>\n",
              "    <tr>\n",
              "      <th>514</th>\n",
              "      <td>TCGA-T7-A92I</td>\n",
              "      <td>0</td>\n",
              "    </tr>\n",
              "  </tbody>\n",
              "</table>\n",
              "<p>515 rows × 2 columns</p>\n",
              "</div>"
            ],
            "text/plain": [
              "       Unnamed: 0  y\n",
              "0    TCGA-3Z-A93Z  0\n",
              "1    TCGA-6D-AA2E  0\n",
              "2    TCGA-A3-3306  0\n",
              "3    TCGA-A3-3307  1\n",
              "4    TCGA-A3-3308  1\n",
              "..            ... ..\n",
              "510  TCGA-GK-A6C7  0\n",
              "511  TCGA-MM-A564  0\n",
              "512  TCGA-MM-A84U  0\n",
              "513  TCGA-MW-A4EC  0\n",
              "514  TCGA-T7-A92I  0\n",
              "\n",
              "[515 rows x 2 columns]"
            ]
          },
          "metadata": {
            "tags": []
          },
          "execution_count": 11
        }
      ]
    },
    {
      "cell_type": "code",
      "metadata": {
        "id": "HxEsei-qDVDP",
        "colab_type": "code",
        "colab": {}
      },
      "source": [
        "Y = y['y']\n",
        "Y = Y.astype('float32') "
      ],
      "execution_count": 12,
      "outputs": []
    },
    {
      "cell_type": "code",
      "metadata": {
        "id": "gwJbhXynvhXW",
        "colab_type": "code",
        "colab": {
          "base_uri": "https://localhost:8080/",
          "height": 34
        },
        "outputId": "a68d4e12-2534-41d8-db06-fbd55f8fd0a8"
      },
      "source": [
        "Y.shape"
      ],
      "execution_count": 13,
      "outputs": [
        {
          "output_type": "execute_result",
          "data": {
            "text/plain": [
              "(515,)"
            ]
          },
          "metadata": {
            "tags": []
          },
          "execution_count": 13
        }
      ]
    },
    {
      "cell_type": "code",
      "metadata": {
        "id": "888FV4OQIwuw",
        "colab_type": "code",
        "colab": {
          "base_uri": "https://localhost:8080/",
          "height": 221
        },
        "outputId": "b097392c-f526-4437-bba4-b48a87f80404"
      },
      "source": [
        "Y"
      ],
      "execution_count": 14,
      "outputs": [
        {
          "output_type": "execute_result",
          "data": {
            "text/plain": [
              "0      0.0\n",
              "1      0.0\n",
              "2      0.0\n",
              "3      1.0\n",
              "4      1.0\n",
              "      ... \n",
              "510    0.0\n",
              "511    0.0\n",
              "512    0.0\n",
              "513    0.0\n",
              "514    0.0\n",
              "Name: y, Length: 515, dtype: float32"
            ]
          },
          "metadata": {
            "tags": []
          },
          "execution_count": 14
        }
      ]
    },
    {
      "cell_type": "markdown",
      "metadata": {
        "id": "4gIRetxSxOw_",
        "colab_type": "text"
      },
      "source": [
        "# Custom Attention Model"
      ]
    },
    {
      "cell_type": "code",
      "metadata": {
        "id": "x-K3IqbIxeII",
        "colab_type": "code",
        "colab": {}
      },
      "source": [
        "from tensorflow.keras import layers"
      ],
      "execution_count": 15,
      "outputs": []
    },
    {
      "cell_type": "code",
      "metadata": {
        "id": "wwXGsAV4wB8x",
        "colab_type": "code",
        "colab": {}
      },
      "source": [
        "# Defining pathway attention\n",
        "\n",
        "class Pathway_Attention(layers.Layer):\n",
        "\n",
        "  def __init__(self, a, d, p):\n",
        "    super(Pathway_Attention, self).__init__()\n",
        "    self.units = a\n",
        "    self.input_dim = d\n",
        "    self.alpha_dim = p\n",
        "\n",
        "    self.w = self.add_weight(shape=(self.input_dim, self.units),\n",
        "                             initializer='random_normal',\n",
        "                             trainable=True)\n",
        "    self.b = self.add_weight(shape=(self.units,),\n",
        "                             initializer='zeros',\n",
        "                             trainable=True)\n",
        "    self.u = self.add_weight(shape=(self.units,),\n",
        "                             initializer='random_normal',\n",
        "                             trainable=True)\n",
        "    self.alpha = self.add_weight(shape=(self.alpha_dim,),\n",
        "                             initializer='zeros',\n",
        "                             trainable=False)\n",
        "\n",
        "  def call(self, inputs):\n",
        "    y_att = tf.math.tanh(tf.matmul(inputs, self.w) + self.b)\n",
        "    logits = tf.linalg.matvec(y_att, self.u)\n",
        "    # print(logits.shape)\n",
        "    self.alpha = tf.nn.softmax(logits)\n",
        "    return tf.transpose(tf.linalg.matvec(tf.transpose(inputs), self.alpha))\n"
      ],
      "execution_count": 16,
      "outputs": []
    },
    {
      "cell_type": "code",
      "metadata": {
        "id": "8tZKxAZZ5rli",
        "colab_type": "code",
        "colab": {}
      },
      "source": [
        "class EnsembleBlock(layers.Layer):\n",
        "\n",
        "  def __init__(self):\n",
        "    super(EnsembleBlock, self).__init__()\n",
        "    self.ensemble_1 = Pathway_Attention(a=4, d=2, p=110)\n",
        "    self.ensemble_2 = Pathway_Attention(a=4, d=2, p=110)\n",
        "    self.ensemble_3 = Pathway_Attention(a=4, d=2, p=110)\n",
        "    self.ensemble_4 = Pathway_Attention(a=4, d=2, p=110)\n",
        "    self.ensemble_5 = Pathway_Attention(a=4, d=2, p=110)\n",
        "    self.ensemble_6 = Pathway_Attention(a=4, d=2, p=110)\n",
        "    self.ensemble_7 = Pathway_Attention(a=4, d=2, p=110)\n",
        "    self.ensemble_8 = Pathway_Attention(a=4, d=2, p=110)\n",
        "    self.ensemble_9 = Pathway_Attention(a=4, d=2, p=110)\n",
        "    # self.ensemble_10 = Pathway_Attention(a=4, d=2, p=110)\n",
        "    # self.ensemble_11 = Pathway_Attention(a=4, d=2, p=110)\n",
        "    self.final = Pathway_Attention(a=4, d=2, p=9)\n",
        "\n",
        "  def call(self, inputs):\n",
        "    h1 = self.ensemble_1(inputs)\n",
        "    h2 = self.ensemble_2(inputs)\n",
        "    h3 = self.ensemble_3(inputs)\n",
        "    h4 = self.ensemble_4(inputs)\n",
        "    h5 = self.ensemble_5(inputs)\n",
        "    h6 = self.ensemble_6(inputs)\n",
        "    h7 = self.ensemble_7(inputs)\n",
        "    h8 = self.ensemble_8(inputs)\n",
        "    h9 = self.ensemble_9(inputs)\n",
        "    # h10 = self.ensemble_10(inputs)\n",
        "    # h11 = self.ensemble_11(inputs)\n",
        "    h_mgd = [h1, h2, h3, h4, h5, h6, h7, h8, h9] #, h10, h11]\n",
        "    h_mgd = tf.convert_to_tensor(h_mgd, dtype=tf.float32)\n",
        "    return self.final(h_mgd)\n"
      ],
      "execution_count": 17,
      "outputs": []
    },
    {
      "cell_type": "code",
      "metadata": {
        "id": "-7NQmudC98GW",
        "colab_type": "code",
        "colab": {}
      },
      "source": [
        "class MAE_Model(tf.keras.Model):\n",
        "\n",
        "    def __init__(self):\n",
        "        super(MAE_Model, self).__init__()\n",
        "        self.h_fin = EnsembleBlock()\n",
        "        # self.ipt = tf.keras.layers.InputLayer(input_shape=(3,1), batch_size=None)\n",
        "        self.fc_1 = tf.keras.layers.Dense(8, activation='relu')\n",
        "        self.fc_2 = tf.keras.layers.Dense(4, activation='relu')\n",
        "        self.classifier = tf.keras.layers.Dense(2, activation='softmax')\n",
        "\n",
        "    def call(self, inputs):\n",
        "        x = self.h_fin(inputs)\n",
        "        x = tf.expand_dims(x, axis=0)\n",
        "        # print(x)\n",
        "        # x = self.ipt(x)\n",
        "        x = self.fc_1(x)\n",
        "        x = self.fc_2(x)\n",
        "        return self.classifier(x)\n"
      ],
      "execution_count": 18,
      "outputs": []
    },
    {
      "cell_type": "code",
      "metadata": {
        "id": "5c5fMOhbBb0k",
        "colab_type": "code",
        "colab": {}
      },
      "source": [
        "mae = MAE_Model()"
      ],
      "execution_count": 19,
      "outputs": []
    },
    {
      "cell_type": "code",
      "metadata": {
        "id": "pqmWgKe2CIMT",
        "colab_type": "code",
        "colab": {}
      },
      "source": [
        "optimizer = tf.keras.optimizers.Nadam(learning_rate=1e-3)\n",
        "ce_loss_fn = tf.keras.losses.CategoricalCrossentropy()"
      ],
      "execution_count": 20,
      "outputs": []
    },
    {
      "cell_type": "code",
      "metadata": {
        "id": "p40HYLXQH9FR",
        "colab_type": "code",
        "colab": {}
      },
      "source": [
        "acc_metric = tf.keras.metrics.Accuracy()"
      ],
      "execution_count": 21,
      "outputs": []
    },
    {
      "cell_type": "code",
      "metadata": {
        "id": "odgNRszhIqoA",
        "colab_type": "code",
        "colab": {}
      },
      "source": [
        "from sklearn.model_selection import train_test_split\n",
        "X_train, X_test, y_train, y_test = train_test_split(X, Y, test_size=0.25, stratify=Y, random_state=42)"
      ],
      "execution_count": 22,
      "outputs": []
    },
    {
      "cell_type": "code",
      "metadata": {
        "id": "yfKNwfW5SFO8",
        "colab_type": "code",
        "colab": {
          "base_uri": "https://localhost:8080/",
          "height": 34
        },
        "outputId": "dff3f104-2faf-483f-c0fe-5cb451eca21b"
      },
      "source": [
        "X_train.shape, X_test.shape, y_train.shape, y_test.shape"
      ],
      "execution_count": 23,
      "outputs": [
        {
          "output_type": "execute_result",
          "data": {
            "text/plain": [
              "((386, 110, 2), (129, 110, 2), (386,), (129,))"
            ]
          },
          "metadata": {
            "tags": []
          },
          "execution_count": 23
        }
      ]
    },
    {
      "cell_type": "code",
      "metadata": {
        "id": "zCc-bL-KCunk",
        "colab_type": "code",
        "colab": {}
      },
      "source": [
        "dataset_train = tf.data.Dataset.from_tensor_slices((X_train, y_train))"
      ],
      "execution_count": 24,
      "outputs": []
    },
    {
      "cell_type": "code",
      "metadata": {
        "id": "7kKXpIYRDr78",
        "colab_type": "code",
        "colab": {
          "base_uri": "https://localhost:8080/",
          "height": 479
        },
        "outputId": "4596c4d3-b91b-4250-f27e-b131b187815c"
      },
      "source": [
        "epochs = 10\n",
        "\n",
        "for epoch in range(epochs):\n",
        "  print('Start of epoch %d' % (epoch,))\n",
        "\n",
        "  # Iterate over the batches of the dataset.\n",
        "  for train_x, train_y in dataset_train:\n",
        "    with tf.GradientTape() as tape:\n",
        "      preds = mae(train_x)\n",
        "      # Compute reconstruction loss\n",
        "      # print(preds)\n",
        "      train_y = tf.one_hot(int(train_y), depth=2)\n",
        "      \n",
        "      train_y = tf.reshape(train_y, (1,2))\n",
        "      # print(preds, train_y)\n",
        "      loss = ce_loss_fn(train_y, preds)\n",
        "      # print(loss)\n",
        "\n",
        "    grads = tape.gradient(loss, mae.trainable_weights)\n",
        "    optimizer.apply_gradients(zip(grads, mae.trainable_weights))\n",
        "\n",
        "    acc_metric.update_state(np.argmax(train_y), np.argmax(preds))\n",
        "\n",
        "  print('epoch %s: train mean accc = %s' % (epoch, acc_metric.result()))"
      ],
      "execution_count": 25,
      "outputs": [
        {
          "output_type": "stream",
          "text": [
            "Start of epoch 0\n",
            "WARNING:tensorflow:Layer mae__model is casting an input tensor from dtype float64 to the layer's dtype of float32, which is new behavior in TensorFlow 2.  The layer has dtype float32 because it's dtype defaults to floatx.\n",
            "\n",
            "If you intended to run this layer in float32, you can safely ignore this warning. If in doubt, this warning is likely only an issue if you are porting a TensorFlow 1.X model to TensorFlow 2.\n",
            "\n",
            "To change all layers to have dtype float64 by default, call `tf.keras.backend.set_floatx('float64')`. To change just this layer, pass dtype='float64' to the layer constructor. If you are the author of this layer, you can disable autocasting by passing autocast=False to the base Layer constructor.\n",
            "\n",
            "epoch 0: train mean accc = tf.Tensor(0.6088083, shape=(), dtype=float32)\n",
            "Start of epoch 1\n",
            "epoch 1: train mean accc = tf.Tensor(0.6088083, shape=(), dtype=float32)\n",
            "Start of epoch 2\n",
            "epoch 2: train mean accc = tf.Tensor(0.6088083, shape=(), dtype=float32)\n",
            "Start of epoch 3\n",
            "epoch 3: train mean accc = tf.Tensor(0.6088083, shape=(), dtype=float32)\n",
            "Start of epoch 4\n",
            "epoch 4: train mean accc = tf.Tensor(0.6088083, shape=(), dtype=float32)\n",
            "Start of epoch 5\n",
            "epoch 5: train mean accc = tf.Tensor(0.6088083, shape=(), dtype=float32)\n",
            "Start of epoch 6\n",
            "epoch 6: train mean accc = tf.Tensor(0.6088083, shape=(), dtype=float32)\n",
            "Start of epoch 7\n",
            "epoch 7: train mean accc = tf.Tensor(0.6088083, shape=(), dtype=float32)\n",
            "Start of epoch 8\n",
            "epoch 8: train mean accc = tf.Tensor(0.60852045, shape=(), dtype=float32)\n",
            "Start of epoch 9\n",
            "epoch 9: train mean accc = tf.Tensor(0.60854924, shape=(), dtype=float32)\n"
          ],
          "name": "stdout"
        }
      ]
    },
    {
      "cell_type": "code",
      "metadata": {
        "id": "GfbUnd8nL4vy",
        "colab_type": "code",
        "colab": {}
      },
      "source": [
        "dataset_test = tf.data.Dataset.from_tensor_slices((X_test, y_test))"
      ],
      "execution_count": 26,
      "outputs": []
    },
    {
      "cell_type": "code",
      "metadata": {
        "id": "G4jx8YHMML5B",
        "colab_type": "code",
        "colab": {}
      },
      "source": [
        "y_test_preds = []\n",
        "y_true = []"
      ],
      "execution_count": 27,
      "outputs": []
    },
    {
      "cell_type": "code",
      "metadata": {
        "id": "IiVCR9n9MT0N",
        "colab_type": "code",
        "colab": {}
      },
      "source": [
        "for test_x, test_y in dataset_test:\n",
        "   p = mae(test_x)\n",
        "   y_test_preds.append(tf.argmax(p, axis=-1))\n",
        "   y_true.append(test_y)"
      ],
      "execution_count": 28,
      "outputs": []
    },
    {
      "cell_type": "code",
      "metadata": {
        "id": "xMmNemK3MiP0",
        "colab_type": "code",
        "colab": {
          "base_uri": "https://localhost:8080/",
          "height": 224
        },
        "outputId": "35f8ead6-de24-4d14-fc44-b26fecf56687"
      },
      "source": [
        "from sklearn.metrics import classification_report\n",
        "target_names = ['class 0', 'class 1']\n",
        "print(classification_report(y_true, y_test_preds, target_names=target_names))"
      ],
      "execution_count": 29,
      "outputs": [
        {
          "output_type": "stream",
          "text": [
            "              precision    recall  f1-score   support\n",
            "\n",
            "     class 0       0.61      1.00      0.76        79\n",
            "     class 1       0.00      0.00      0.00        50\n",
            "\n",
            "    accuracy                           0.61       129\n",
            "   macro avg       0.31      0.50      0.38       129\n",
            "weighted avg       0.38      0.61      0.47       129\n",
            "\n"
          ],
          "name": "stdout"
        },
        {
          "output_type": "stream",
          "text": [
            "/usr/local/lib/python3.6/dist-packages/sklearn/metrics/_classification.py:1272: UndefinedMetricWarning: Precision and F-score are ill-defined and being set to 0.0 in labels with no predicted samples. Use `zero_division` parameter to control this behavior.\n",
            "  _warn_prf(average, modifier, msg_start, len(result))\n"
          ],
          "name": "stderr"
        }
      ]
    },
    {
      "cell_type": "code",
      "metadata": {
        "id": "KxVsweIUMlSO",
        "colab_type": "code",
        "colab": {}
      },
      "source": [
        ""
      ],
      "execution_count": 29,
      "outputs": []
    },
    {
      "cell_type": "markdown",
      "metadata": {
        "id": "7fD6N4xYlCAP",
        "colab_type": "text"
      },
      "source": [
        "# Stratified K-fold"
      ]
    },
    {
      "cell_type": "code",
      "metadata": {
        "id": "OUmf5m_5lEDd",
        "colab_type": "code",
        "colab": {}
      },
      "source": [
        "from sklearn.model_selection import StratifiedKFold\n",
        "skf = StratifiedKFold(n_splits=10, random_state=0, shuffle=True)"
      ],
      "execution_count": 30,
      "outputs": []
    },
    {
      "cell_type": "code",
      "metadata": {
        "id": "3nRn9oTHlKld",
        "colab_type": "code",
        "colab": {
          "base_uri": "https://localhost:8080/",
          "height": 1000
        },
        "outputId": "b29a003b-7056-4659-9b06-1bcec67aab55"
      },
      "source": [
        "for train_index, test_index in skf.split(X, Y):\n",
        "  X_train, X_test = X[train_index], X[test_index]\n",
        "  y_train, y_test = Y[train_index], Y[test_index]\n",
        "  dataset_train = tf.data.Dataset.from_tensor_slices((X_train, y_train))\n",
        "  dataset_test = tf.data.Dataset.from_tensor_slices((X_test, y_test))\n",
        "  print(\"------------FOLD---------------\")\n",
        "  mae = MAE_Model()\n",
        "  acc_metric = tf.keras.metrics.Accuracy()\n",
        "  optimizer = tf.keras.optimizers.Nadam(learning_rate=1e-3)\n",
        "  ce_loss_fn = tf.keras.losses.CategoricalCrossentropy()\n",
        "\n",
        "  for epoch in range(10):\n",
        "    print('Start of epoch %d' % (epoch,))\n",
        "\n",
        "    # Iterate over the batches of the dataset.\n",
        "    for train_x, train_y in dataset_train:\n",
        "      with tf.GradientTape() as tape:\n",
        "        preds = mae(train_x)\n",
        "        # Compute reconstruction loss\n",
        "        train_y = tf.one_hot(int(train_y), depth=2)\n",
        "        # print(preds)\n",
        "        train_y = tf.reshape(train_y, (1,2))\n",
        "        # print(y_train)\n",
        "        loss = ce_loss_fn(train_y, preds)\n",
        "        # print(loss)\n",
        "\n",
        "      grads = tape.gradient(loss, mae.trainable_weights)\n",
        "      optimizer.apply_gradients(zip(grads, mae.trainable_weights))\n",
        "\n",
        "      acc_metric.update_state(np.argmax(train_y), np.argmax(preds))\n",
        "\n",
        "    print('epoch %s: train mean accc = %s' % (epoch, acc_metric.result()))\n",
        "  \n",
        "  y_test_preds = []\n",
        "  y_true = []\n",
        "  for test_x, test_y in dataset_test:\n",
        "    p = mae(test_x)\n",
        "    y_test_preds.append(tf.argmax(p, axis=-1))\n",
        "    y_true.append(test_y)\n",
        "  target_names = ['class 0', 'class 1']\n",
        "  print(classification_report(y_true, y_test_preds, target_names=target_names))"
      ],
      "execution_count": 34,
      "outputs": [
        {
          "output_type": "stream",
          "text": [
            "------------FOLD---------------\n",
            "Start of epoch 0\n",
            "WARNING:tensorflow:Layer mae__model_2 is casting an input tensor from dtype float64 to the layer's dtype of float32, which is new behavior in TensorFlow 2.  The layer has dtype float32 because it's dtype defaults to floatx.\n",
            "\n",
            "If you intended to run this layer in float32, you can safely ignore this warning. If in doubt, this warning is likely only an issue if you are porting a TensorFlow 1.X model to TensorFlow 2.\n",
            "\n",
            "To change all layers to have dtype float64 by default, call `tf.keras.backend.set_floatx('float64')`. To change just this layer, pass dtype='float64' to the layer constructor. If you are the author of this layer, you can disable autocasting by passing autocast=False to the base Layer constructor.\n",
            "\n",
            "epoch 0: train mean accc = tf.Tensor(0.58099353, shape=(), dtype=float32)\n",
            "Start of epoch 1\n",
            "epoch 1: train mean accc = tf.Tensor(0.5950324, shape=(), dtype=float32)\n",
            "Start of epoch 2\n",
            "epoch 2: train mean accc = tf.Tensor(0.599712, shape=(), dtype=float32)\n",
            "Start of epoch 3\n",
            "epoch 3: train mean accc = tf.Tensor(0.60205185, shape=(), dtype=float32)\n",
            "Start of epoch 4\n",
            "epoch 4: train mean accc = tf.Tensor(0.6034557, shape=(), dtype=float32)\n",
            "Start of epoch 5\n",
            "epoch 5: train mean accc = tf.Tensor(0.60439163, shape=(), dtype=float32)\n",
            "Start of epoch 6\n",
            "epoch 6: train mean accc = tf.Tensor(0.60506016, shape=(), dtype=float32)\n",
            "Start of epoch 7\n",
            "epoch 7: train mean accc = tf.Tensor(0.60556155, shape=(), dtype=float32)\n",
            "Start of epoch 8\n",
            "epoch 8: train mean accc = tf.Tensor(0.60595155, shape=(), dtype=float32)\n",
            "Start of epoch 9\n",
            "epoch 9: train mean accc = tf.Tensor(0.6062635, shape=(), dtype=float32)\n",
            "              precision    recall  f1-score   support\n",
            "\n",
            "     class 0       0.62      1.00      0.76        32\n",
            "     class 1       0.00      0.00      0.00        20\n",
            "\n",
            "    accuracy                           0.62        52\n",
            "   macro avg       0.31      0.50      0.38        52\n",
            "weighted avg       0.38      0.62      0.47        52\n",
            "\n",
            "------------FOLD---------------\n",
            "Start of epoch 0\n",
            "WARNING:tensorflow:Layer mae__model_3 is casting an input tensor from dtype float64 to the layer's dtype of float32, which is new behavior in TensorFlow 2.  The layer has dtype float32 because it's dtype defaults to floatx.\n",
            "\n",
            "If you intended to run this layer in float32, you can safely ignore this warning. If in doubt, this warning is likely only an issue if you are porting a TensorFlow 1.X model to TensorFlow 2.\n",
            "\n",
            "To change all layers to have dtype float64 by default, call `tf.keras.backend.set_floatx('float64')`. To change just this layer, pass dtype='float64' to the layer constructor. If you are the author of this layer, you can disable autocasting by passing autocast=False to the base Layer constructor.\n",
            "\n"
          ],
          "name": "stdout"
        },
        {
          "output_type": "stream",
          "text": [
            "/usr/local/lib/python3.6/dist-packages/sklearn/metrics/_classification.py:1272: UndefinedMetricWarning: Precision and F-score are ill-defined and being set to 0.0 in labels with no predicted samples. Use `zero_division` parameter to control this behavior.\n",
            "  _warn_prf(average, modifier, msg_start, len(result))\n"
          ],
          "name": "stderr"
        },
        {
          "output_type": "stream",
          "text": [
            "epoch 0: train mean accc = tf.Tensor(0.5075594, shape=(), dtype=float32)\n",
            "Start of epoch 1\n",
            "epoch 1: train mean accc = tf.Tensor(0.5604752, shape=(), dtype=float32)\n",
            "Start of epoch 2\n",
            "epoch 2: train mean accc = tf.Tensor(0.57739383, shape=(), dtype=float32)\n",
            "Start of epoch 3\n",
            "epoch 3: train mean accc = tf.Tensor(0.5853132, shape=(), dtype=float32)\n",
            "Start of epoch 4\n",
            "epoch 4: train mean accc = tf.Tensor(0.5900648, shape=(), dtype=float32)\n",
            "Start of epoch 5\n",
            "epoch 5: train mean accc = tf.Tensor(0.5932325, shape=(), dtype=float32)\n",
            "Start of epoch 6\n",
            "epoch 6: train mean accc = tf.Tensor(0.59580374, shape=(), dtype=float32)\n",
            "Start of epoch 7\n",
            "epoch 7: train mean accc = tf.Tensor(0.5974622, shape=(), dtype=float32)\n",
            "Start of epoch 8\n",
            "epoch 8: train mean accc = tf.Tensor(0.5987521, shape=(), dtype=float32)\n",
            "Start of epoch 9\n",
            "epoch 9: train mean accc = tf.Tensor(0.600432, shape=(), dtype=float32)\n",
            "              precision    recall  f1-score   support\n",
            "\n",
            "     class 0       0.62      1.00      0.76        32\n",
            "     class 1       0.00      0.00      0.00        20\n",
            "\n",
            "    accuracy                           0.62        52\n",
            "   macro avg       0.31      0.50      0.38        52\n",
            "weighted avg       0.38      0.62      0.47        52\n",
            "\n",
            "------------FOLD---------------\n",
            "Start of epoch 0\n",
            "WARNING:tensorflow:Layer mae__model_4 is casting an input tensor from dtype float64 to the layer's dtype of float32, which is new behavior in TensorFlow 2.  The layer has dtype float32 because it's dtype defaults to floatx.\n",
            "\n",
            "If you intended to run this layer in float32, you can safely ignore this warning. If in doubt, this warning is likely only an issue if you are porting a TensorFlow 1.X model to TensorFlow 2.\n",
            "\n",
            "To change all layers to have dtype float64 by default, call `tf.keras.backend.set_floatx('float64')`. To change just this layer, pass dtype='float64' to the layer constructor. If you are the author of this layer, you can disable autocasting by passing autocast=False to the base Layer constructor.\n",
            "\n",
            "epoch 0: train mean accc = tf.Tensor(0.60907125, shape=(), dtype=float32)\n",
            "Start of epoch 1\n",
            "epoch 1: train mean accc = tf.Tensor(0.60907125, shape=(), dtype=float32)\n",
            "Start of epoch 2\n",
            "epoch 2: train mean accc = tf.Tensor(0.60907125, shape=(), dtype=float32)\n",
            "Start of epoch 3\n",
            "epoch 3: train mean accc = tf.Tensor(0.60907125, shape=(), dtype=float32)\n",
            "Start of epoch 4\n",
            "epoch 4: train mean accc = tf.Tensor(0.60907125, shape=(), dtype=float32)\n",
            "Start of epoch 5\n",
            "epoch 5: train mean accc = tf.Tensor(0.60907125, shape=(), dtype=float32)\n",
            "Start of epoch 6\n",
            "epoch 6: train mean accc = tf.Tensor(0.60907125, shape=(), dtype=float32)\n",
            "Start of epoch 7\n",
            "epoch 7: train mean accc = tf.Tensor(0.60907125, shape=(), dtype=float32)\n",
            "Start of epoch 8\n",
            "epoch 8: train mean accc = tf.Tensor(0.60907125, shape=(), dtype=float32)\n",
            "Start of epoch 9\n",
            "epoch 9: train mean accc = tf.Tensor(0.60907125, shape=(), dtype=float32)\n",
            "              precision    recall  f1-score   support\n",
            "\n",
            "     class 0       0.62      1.00      0.76        32\n",
            "     class 1       0.00      0.00      0.00        20\n",
            "\n",
            "    accuracy                           0.62        52\n",
            "   macro avg       0.31      0.50      0.38        52\n",
            "weighted avg       0.38      0.62      0.47        52\n",
            "\n",
            "------------FOLD---------------\n",
            "Start of epoch 0\n",
            "WARNING:tensorflow:Layer mae__model_5 is casting an input tensor from dtype float64 to the layer's dtype of float32, which is new behavior in TensorFlow 2.  The layer has dtype float32 because it's dtype defaults to floatx.\n",
            "\n",
            "If you intended to run this layer in float32, you can safely ignore this warning. If in doubt, this warning is likely only an issue if you are porting a TensorFlow 1.X model to TensorFlow 2.\n",
            "\n",
            "To change all layers to have dtype float64 by default, call `tf.keras.backend.set_floatx('float64')`. To change just this layer, pass dtype='float64' to the layer constructor. If you are the author of this layer, you can disable autocasting by passing autocast=False to the base Layer constructor.\n",
            "\n",
            "epoch 0: train mean accc = tf.Tensor(0.5853132, shape=(), dtype=float32)\n",
            "Start of epoch 1\n",
            "epoch 1: train mean accc = tf.Tensor(0.5971922, shape=(), dtype=float32)\n",
            "Start of epoch 2\n",
            "epoch 2: train mean accc = tf.Tensor(0.6011519, shape=(), dtype=float32)\n",
            "Start of epoch 3\n",
            "epoch 3: train mean accc = tf.Tensor(0.6031318, shape=(), dtype=float32)\n",
            "Start of epoch 4\n",
            "epoch 4: train mean accc = tf.Tensor(0.60431963, shape=(), dtype=float32)\n",
            "Start of epoch 5\n",
            "epoch 5: train mean accc = tf.Tensor(0.6058315, shape=(), dtype=float32)\n",
            "Start of epoch 6\n",
            "epoch 6: train mean accc = tf.Tensor(0.60722, shape=(), dtype=float32)\n",
            "Start of epoch 7\n",
            "epoch 7: train mean accc = tf.Tensor(0.612581, shape=(), dtype=float32)\n",
            "Start of epoch 8\n",
            "epoch 8: train mean accc = tf.Tensor(0.6172306, shape=(), dtype=float32)\n",
            "Start of epoch 9\n",
            "epoch 9: train mean accc = tf.Tensor(0.6213823, shape=(), dtype=float32)\n",
            "              precision    recall  f1-score   support\n",
            "\n",
            "     class 0       0.67      1.00      0.80        32\n",
            "     class 1       1.00      0.20      0.33        20\n",
            "\n",
            "    accuracy                           0.69        52\n",
            "   macro avg       0.83      0.60      0.57        52\n",
            "weighted avg       0.79      0.69      0.62        52\n",
            "\n",
            "------------FOLD---------------\n",
            "Start of epoch 0\n",
            "WARNING:tensorflow:Layer mae__model_6 is casting an input tensor from dtype float64 to the layer's dtype of float32, which is new behavior in TensorFlow 2.  The layer has dtype float32 because it's dtype defaults to floatx.\n",
            "\n",
            "If you intended to run this layer in float32, you can safely ignore this warning. If in doubt, this warning is likely only an issue if you are porting a TensorFlow 1.X model to TensorFlow 2.\n",
            "\n",
            "To change all layers to have dtype float64 by default, call `tf.keras.backend.set_floatx('float64')`. To change just this layer, pass dtype='float64' to the layer constructor. If you are the author of this layer, you can disable autocasting by passing autocast=False to the base Layer constructor.\n",
            "\n",
            "epoch 0: train mean accc = tf.Tensor(0.55939525, shape=(), dtype=float32)\n",
            "Start of epoch 1\n",
            "epoch 1: train mean accc = tf.Tensor(0.5853132, shape=(), dtype=float32)\n",
            "Start of epoch 2\n",
            "epoch 2: train mean accc = tf.Tensor(0.5939525, shape=(), dtype=float32)\n",
            "Start of epoch 3\n",
            "epoch 3: train mean accc = tf.Tensor(0.59827214, shape=(), dtype=float32)\n",
            "Start of epoch 4\n",
            "epoch 4: train mean accc = tf.Tensor(0.60086393, shape=(), dtype=float32)\n",
            "Start of epoch 5\n",
            "epoch 5: train mean accc = tf.Tensor(0.6025918, shape=(), dtype=float32)\n",
            "Start of epoch 6\n",
            "epoch 6: train mean accc = tf.Tensor(0.603826, shape=(), dtype=float32)\n",
            "Start of epoch 7\n",
            "epoch 7: train mean accc = tf.Tensor(0.60475165, shape=(), dtype=float32)\n",
            "Start of epoch 8\n",
            "epoch 8: train mean accc = tf.Tensor(0.60547155, shape=(), dtype=float32)\n",
            "Start of epoch 9\n",
            "epoch 9: train mean accc = tf.Tensor(0.6060475, shape=(), dtype=float32)\n",
            "              precision    recall  f1-score   support\n",
            "\n",
            "     class 0       0.60      1.00      0.75        31\n",
            "     class 1       0.00      0.00      0.00        21\n",
            "\n",
            "    accuracy                           0.60        52\n",
            "   macro avg       0.30      0.50      0.37        52\n",
            "weighted avg       0.36      0.60      0.45        52\n",
            "\n",
            "------------FOLD---------------\n",
            "Start of epoch 0\n",
            "WARNING:tensorflow:Layer mae__model_7 is casting an input tensor from dtype float64 to the layer's dtype of float32, which is new behavior in TensorFlow 2.  The layer has dtype float32 because it's dtype defaults to floatx.\n",
            "\n",
            "If you intended to run this layer in float32, you can safely ignore this warning. If in doubt, this warning is likely only an issue if you are porting a TensorFlow 1.X model to TensorFlow 2.\n",
            "\n",
            "To change all layers to have dtype float64 by default, call `tf.keras.backend.set_floatx('float64')`. To change just this layer, pass dtype='float64' to the layer constructor. If you are the author of this layer, you can disable autocasting by passing autocast=False to the base Layer constructor.\n",
            "\n",
            "epoch 0: train mean accc = tf.Tensor(0.5969828, shape=(), dtype=float32)\n",
            "Start of epoch 1\n",
            "epoch 1: train mean accc = tf.Tensor(0.60560346, shape=(), dtype=float32)\n",
            "Start of epoch 2\n",
            "epoch 2: train mean accc = tf.Tensor(0.6091954, shape=(), dtype=float32)\n",
            "Start of epoch 3\n",
            "epoch 3: train mean accc = tf.Tensor(0.61099136, shape=(), dtype=float32)\n",
            "Start of epoch 4\n",
            "epoch 4: train mean accc = tf.Tensor(0.6146552, shape=(), dtype=float32)\n",
            "Start of epoch 5\n",
            "epoch 5: train mean accc = tf.Tensor(0.61925286, shape=(), dtype=float32)\n",
            "Start of epoch 6\n",
            "epoch 6: train mean accc = tf.Tensor(0.6243842, shape=(), dtype=float32)\n",
            "Start of epoch 7\n",
            "epoch 7: train mean accc = tf.Tensor(0.6309267, shape=(), dtype=float32)\n",
            "Start of epoch 8\n",
            "epoch 8: train mean accc = tf.Tensor(0.6364943, shape=(), dtype=float32)\n",
            "Start of epoch 9\n",
            "epoch 9: train mean accc = tf.Tensor(0.64073277, shape=(), dtype=float32)\n",
            "              precision    recall  f1-score   support\n",
            "\n",
            "     class 0       0.66      0.87      0.75        31\n",
            "     class 1       0.60      0.30      0.40        20\n",
            "\n",
            "    accuracy                           0.65        51\n",
            "   macro avg       0.63      0.59      0.57        51\n",
            "weighted avg       0.64      0.65      0.61        51\n",
            "\n",
            "------------FOLD---------------\n",
            "Start of epoch 0\n",
            "WARNING:tensorflow:Layer mae__model_8 is casting an input tensor from dtype float64 to the layer's dtype of float32, which is new behavior in TensorFlow 2.  The layer has dtype float32 because it's dtype defaults to floatx.\n",
            "\n",
            "If you intended to run this layer in float32, you can safely ignore this warning. If in doubt, this warning is likely only an issue if you are porting a TensorFlow 1.X model to TensorFlow 2.\n",
            "\n",
            "To change all layers to have dtype float64 by default, call `tf.keras.backend.set_floatx('float64')`. To change just this layer, pass dtype='float64' to the layer constructor. If you are the author of this layer, you can disable autocasting by passing autocast=False to the base Layer constructor.\n",
            "\n",
            "epoch 0: train mean accc = tf.Tensor(0.57974136, shape=(), dtype=float32)\n",
            "Start of epoch 1\n",
            "epoch 1: train mean accc = tf.Tensor(0.5948276, shape=(), dtype=float32)\n",
            "Start of epoch 2\n",
            "epoch 2: train mean accc = tf.Tensor(0.5998563, shape=(), dtype=float32)\n",
            "Start of epoch 3\n",
            "epoch 3: train mean accc = tf.Tensor(0.6023707, shape=(), dtype=float32)\n",
            "Start of epoch 4\n",
            "epoch 4: train mean accc = tf.Tensor(0.60387933, shape=(), dtype=float32)\n",
            "Start of epoch 5\n",
            "epoch 5: train mean accc = tf.Tensor(0.6052443, shape=(), dtype=float32)\n",
            "Start of epoch 6\n",
            "epoch 6: train mean accc = tf.Tensor(0.6059113, shape=(), dtype=float32)\n",
            "Start of epoch 7\n",
            "epoch 7: train mean accc = tf.Tensor(0.6085668, shape=(), dtype=float32)\n",
            "Start of epoch 8\n",
            "epoch 8: train mean accc = tf.Tensor(0.61230844, shape=(), dtype=float32)\n",
            "Start of epoch 9\n",
            "epoch 9: train mean accc = tf.Tensor(0.6153017, shape=(), dtype=float32)\n",
            "              precision    recall  f1-score   support\n",
            "\n",
            "     class 0       0.69      1.00      0.82        31\n",
            "     class 1       1.00      0.30      0.46        20\n",
            "\n",
            "    accuracy                           0.73        51\n",
            "   macro avg       0.84      0.65      0.64        51\n",
            "weighted avg       0.81      0.73      0.68        51\n",
            "\n",
            "------------FOLD---------------\n",
            "Start of epoch 0\n",
            "WARNING:tensorflow:Layer mae__model_9 is casting an input tensor from dtype float64 to the layer's dtype of float32, which is new behavior in TensorFlow 2.  The layer has dtype float32 because it's dtype defaults to floatx.\n",
            "\n",
            "If you intended to run this layer in float32, you can safely ignore this warning. If in doubt, this warning is likely only an issue if you are porting a TensorFlow 1.X model to TensorFlow 2.\n",
            "\n",
            "To change all layers to have dtype float64 by default, call `tf.keras.backend.set_floatx('float64')`. To change just this layer, pass dtype='float64' to the layer constructor. If you are the author of this layer, you can disable autocasting by passing autocast=False to the base Layer constructor.\n",
            "\n",
            "epoch 0: train mean accc = tf.Tensor(0.57974136, shape=(), dtype=float32)\n",
            "Start of epoch 1\n",
            "epoch 1: train mean accc = tf.Tensor(0.5948276, shape=(), dtype=float32)\n",
            "Start of epoch 2\n",
            "epoch 2: train mean accc = tf.Tensor(0.5998563, shape=(), dtype=float32)\n",
            "Start of epoch 3\n",
            "epoch 3: train mean accc = tf.Tensor(0.6023707, shape=(), dtype=float32)\n",
            "Start of epoch 4\n",
            "epoch 4: train mean accc = tf.Tensor(0.60387933, shape=(), dtype=float32)\n",
            "Start of epoch 5\n",
            "epoch 5: train mean accc = tf.Tensor(0.60488504, shape=(), dtype=float32)\n",
            "Start of epoch 6\n",
            "epoch 6: train mean accc = tf.Tensor(0.60560346, shape=(), dtype=float32)\n",
            "Start of epoch 7\n",
            "epoch 7: train mean accc = tf.Tensor(0.6061422, shape=(), dtype=float32)\n",
            "Start of epoch 8\n",
            "epoch 8: train mean accc = tf.Tensor(0.6065613, shape=(), dtype=float32)\n",
            "Start of epoch 9\n",
            "epoch 9: train mean accc = tf.Tensor(0.6068966, shape=(), dtype=float32)\n",
            "              precision    recall  f1-score   support\n",
            "\n",
            "     class 0       0.61      1.00      0.76        31\n",
            "     class 1       0.00      0.00      0.00        20\n",
            "\n",
            "    accuracy                           0.61        51\n",
            "   macro avg       0.30      0.50      0.38        51\n",
            "weighted avg       0.37      0.61      0.46        51\n",
            "\n",
            "------------FOLD---------------\n",
            "Start of epoch 0\n",
            "WARNING:tensorflow:Layer mae__model_10 is casting an input tensor from dtype float64 to the layer's dtype of float32, which is new behavior in TensorFlow 2.  The layer has dtype float32 because it's dtype defaults to floatx.\n",
            "\n",
            "If you intended to run this layer in float32, you can safely ignore this warning. If in doubt, this warning is likely only an issue if you are porting a TensorFlow 1.X model to TensorFlow 2.\n",
            "\n",
            "To change all layers to have dtype float64 by default, call `tf.keras.backend.set_floatx('float64')`. To change just this layer, pass dtype='float64' to the layer constructor. If you are the author of this layer, you can disable autocasting by passing autocast=False to the base Layer constructor.\n",
            "\n",
            "epoch 0: train mean accc = tf.Tensor(0.5280172, shape=(), dtype=float32)\n",
            "Start of epoch 1\n",
            "epoch 1: train mean accc = tf.Tensor(0.5700431, shape=(), dtype=float32)\n",
            "Start of epoch 2\n",
            "epoch 2: train mean accc = tf.Tensor(0.58477014, shape=(), dtype=float32)\n",
            "Start of epoch 3\n",
            "epoch 3: train mean accc = tf.Tensor(0.59105605, shape=(), dtype=float32)\n",
            "Start of epoch 4\n",
            "epoch 4: train mean accc = tf.Tensor(0.59784484, shape=(), dtype=float32)\n",
            "Start of epoch 5\n",
            "epoch 5: train mean accc = tf.Tensor(0.60596263, shape=(), dtype=float32)\n",
            "Start of epoch 6\n",
            "epoch 6: train mean accc = tf.Tensor(0.61360836, shape=(), dtype=float32)\n",
            "Start of epoch 7\n",
            "epoch 7: train mean accc = tf.Tensor(0.6190733, shape=(), dtype=float32)\n",
            "Start of epoch 8\n",
            "epoch 8: train mean accc = tf.Tensor(0.62356323, shape=(), dtype=float32)\n",
            "Start of epoch 9\n",
            "epoch 9: train mean accc = tf.Tensor(0.6271552, shape=(), dtype=float32)\n",
            "              precision    recall  f1-score   support\n",
            "\n",
            "     class 0       0.67      0.94      0.78        31\n",
            "     class 1       0.75      0.30      0.43        20\n",
            "\n",
            "    accuracy                           0.69        51\n",
            "   macro avg       0.71      0.62      0.61        51\n",
            "weighted avg       0.70      0.69      0.64        51\n",
            "\n",
            "------------FOLD---------------\n",
            "Start of epoch 0\n",
            "WARNING:tensorflow:Layer mae__model_11 is casting an input tensor from dtype float64 to the layer's dtype of float32, which is new behavior in TensorFlow 2.  The layer has dtype float32 because it's dtype defaults to floatx.\n",
            "\n",
            "If you intended to run this layer in float32, you can safely ignore this warning. If in doubt, this warning is likely only an issue if you are porting a TensorFlow 1.X model to TensorFlow 2.\n",
            "\n",
            "To change all layers to have dtype float64 by default, call `tf.keras.backend.set_floatx('float64')`. To change just this layer, pass dtype='float64' to the layer constructor. If you are the author of this layer, you can disable autocasting by passing autocast=False to the base Layer constructor.\n",
            "\n",
            "epoch 0: train mean accc = tf.Tensor(0.5215517, shape=(), dtype=float32)\n",
            "Start of epoch 1\n",
            "epoch 1: train mean accc = tf.Tensor(0.56681037, shape=(), dtype=float32)\n",
            "Start of epoch 2\n",
            "epoch 2: train mean accc = tf.Tensor(0.58189654, shape=(), dtype=float32)\n",
            "Start of epoch 3\n",
            "epoch 3: train mean accc = tf.Tensor(0.5905172, shape=(), dtype=float32)\n",
            "Start of epoch 4\n",
            "epoch 4: train mean accc = tf.Tensor(0.600431, shape=(), dtype=float32)\n",
            "Start of epoch 5\n",
            "epoch 5: train mean accc = tf.Tensor(0.6073994, shape=(), dtype=float32)\n",
            "Start of epoch 6\n",
            "epoch 6: train mean accc = tf.Tensor(0.61237687, shape=(), dtype=float32)\n",
            "Start of epoch 7\n",
            "epoch 7: train mean accc = tf.Tensor(0.61880386, shape=(), dtype=float32)\n",
            "Start of epoch 8\n",
            "epoch 8: train mean accc = tf.Tensor(0.62619734, shape=(), dtype=float32)\n",
            "Start of epoch 9\n",
            "epoch 9: train mean accc = tf.Tensor(0.6336207, shape=(), dtype=float32)\n",
            "              precision    recall  f1-score   support\n",
            "\n",
            "     class 0       0.71      0.94      0.81        31\n",
            "     class 1       0.80      0.40      0.53        20\n",
            "\n",
            "    accuracy                           0.73        51\n",
            "   macro avg       0.75      0.67      0.67        51\n",
            "weighted avg       0.74      0.73      0.70        51\n",
            "\n"
          ],
          "name": "stdout"
        }
      ]
    },
    {
      "cell_type": "code",
      "metadata": {
        "id": "9r5mGc95litT",
        "colab_type": "code",
        "colab": {
          "base_uri": "https://localhost:8080/",
          "height": 282
        },
        "outputId": "5f7b7694-6878-47db-e7fb-a7db700bd37d"
      },
      "source": [
        "import matplotlib.pyplot as plt\n",
        "x = [i for i in range(110)]\n",
        "plt.bar(x, mae.h_fin.ensemble_1.alpha)"
      ],
      "execution_count": 35,
      "outputs": [
        {
          "output_type": "execute_result",
          "data": {
            "text/plain": [
              "<BarContainer object of 110 artists>"
            ]
          },
          "metadata": {
            "tags": []
          },
          "execution_count": 35
        },
        {
          "output_type": "display_data",
          "data": {
            "image/png": "[encoded data removed]",
            "text/plain": [
              "<Figure size 432x288 with 1 Axes>"
            ]
          },
          "metadata": {
            "tags": [],
            "needs_background": "light"
          }
        }
      ]
    },
    {
      "cell_type": "code",
      "metadata": {
        "id": "tYdD6r4Ttwl2",
        "colab_type": "code",
        "colab": {}
      },
      "source": [
        "df = pd.DataFrame(mae.h_fin.ensemble_1.alpha.numpy())"
      ],
      "execution_count": 36,
      "outputs": []
    },
    {
      "cell_type": "code",
      "metadata": {
        "id": "B_odIdzhuJsh",
        "colab_type": "code",
        "colab": {}
      },
      "source": [
        "pathway_file_map = {'hsa01522 .csv': 0, 'hsa03320 .csv': 1, 'hsa04010 .csv': 2, 'hsa04012 .csv': 3, 'hsa04014 .csv': 4, 'hsa04015 .csv': 5, 'hsa04020 .csv': 6, 'hsa04022 .csv': 7, 'hsa04024 .csv': 8, 'hsa04062 .csv': 9, 'hsa04064 .csv': 10, 'hsa04066 .csv': 11, 'hsa04068 .csv': 12, 'hsa04071 .csv': 13, 'hsa04072 .csv': 14, 'hsa04110 .csv': 15, 'hsa04115 .csv': 16, 'hsa04137 .csv': 17, 'hsa04140 .csv': 18, 'hsa04144 .csv': 19, 'hsa04145 .csv': 20, 'hsa04150 .csv': 21, 'hsa04151 .csv': 22, 'hsa04152 .csv': 23, 'hsa04210 .csv': 24, 'hsa04211 .csv': 25, 'hsa04216 .csv': 26, 'hsa04217 .csv': 27, 'hsa04218 .csv': 28, 'hsa04261 .csv': 29, 'hsa04270 .csv': 30, 'hsa04310 .csv': 31, 'hsa04340 .csv': 32, 'hsa04350 .csv': 33, 'hsa04360 .csv': 34, 'hsa04370 .csv': 35, 'hsa04371 .csv': 36, 'hsa04380 .csv': 37, 'hsa04390 .csv': 38, 'hsa04510 .csv': 39, 'hsa04520 .csv': 40, 'hsa04530 .csv': 41, 'hsa04550 .csv': 42, 'hsa04610 .csv': 43, 'hsa04611 .csv': 44, 'hsa04620 .csv': 45, 'hsa04621 .csv': 46, 'hsa04622 .csv': 47, 'hsa04625 .csv': 48, 'hsa04630 .csv': 49, 'hsa04650 .csv': 50, 'hsa04657 .csv': 51, 'hsa04658 .csv': 52, 'hsa04659 .csv': 53, 'hsa04660 .csv': 54, 'hsa04662 .csv': 55, 'hsa04664 .csv': 56, 'hsa04666 .csv': 57, 'hsa04668 .csv': 58, 'hsa04670 .csv': 59, 'hsa04713 .csv': 60, 'hsa04714 .csv': 61, 'hsa04720 .csv': 62, 'hsa04722 .csv': 63, 'hsa04723 .csv': 64, 'hsa04724 .csv': 65, 'hsa04725 .csv': 66, 'hsa04726 .csv': 67, 'hsa04728 .csv': 68, 'hsa04730 .csv': 69, 'hsa04750 .csv': 70, 'hsa04810 .csv': 71, 'hsa04910 .csv': 72, 'hsa04911 .csv': 73, 'hsa04912 .csv': 74, 'hsa04913 .csv': 75, 'hsa04915 .csv': 76, 'hsa04916 .csv': 77, 'hsa04917 .csv': 78, 'hsa04918 .csv': 79, 'hsa04919 .csv': 80, 'hsa04920 .csv': 81, 'hsa04921 .csv': 82, 'hsa04922 .csv': 83, 'hsa04923 .csv': 84, 'hsa04924 .csv': 85, 'hsa04925 .csv': 86, 'hsa04926 .csv': 87, 'hsa04927 .csv': 88, 'hsa04928 .csv': 89, 'hsa04929 .csv': 90, 'hsa04935 .csv': 91, 'hsa04960 .csv': 92, 'hsa04961 .csv': 93, 'hsa04962 .csv': 94, 'hsa04970 .csv': 95, 'hsa04971 .csv': 96, 'hsa04972 .csv': 97, 'hsa04973 .csv': 98, 'hsa04976 .csv': 99, 'hsa04978 .csv': 100, 'hsa04979 .csv': 101, 'hsa05200 .csv': 102, 'hsa05202 .csv': 103, 'hsa05204 .csv': 104, 'hsa05205 .csv': 105, 'hsa05211 .csv': 106, 'hsa05230 .csv': 107, 'hsa05231 .csv': 108, 'hsa05235 .csv': 109}"
      ],
      "execution_count": 37,
      "outputs": []
    },
    {
      "cell_type": "code",
      "metadata": {
        "id": "kwVxifmSuW7n",
        "colab_type": "code",
        "colab": {}
      },
      "source": [
        "# list out keys and values separately \n",
        "key_list = list(pathway_file_map.keys()) \n",
        "val_list = list(pathway_file_map.values()) "
      ],
      "execution_count": 38,
      "outputs": []
    },
    {
      "cell_type": "code",
      "metadata": {
        "id": "a8l82g5X231c",
        "colab_type": "code",
        "colab": {}
      },
      "source": [
        "df['pathway'] = key_list"
      ],
      "execution_count": 39,
      "outputs": []
    },
    {
      "cell_type": "code",
      "metadata": {
        "id": "Cpsyeho63B3Y",
        "colab_type": "code",
        "colab": {
          "base_uri": "https://localhost:8080/",
          "height": 419
        },
        "outputId": "94770910-bbe2-4343-f67b-74bd765f4189"
      },
      "source": [
        "df"
      ],
      "execution_count": 40,
      "outputs": [
        {
          "output_type": "execute_result",
          "data": {
            "text/html": [
              "<div>\n",
              "<style scoped>\n",
              "    .dataframe tbody tr th:only-of-type {\n",
              "        vertical-align: middle;\n",
              "    }\n",
              "\n",
              "    .dataframe tbody tr th {\n",
              "        vertical-align: top;\n",
              "    }\n",
              "\n",
              "    .dataframe thead th {\n",
              "        text-align: right;\n",
              "    }\n",
              "</style>\n",
              "<table border=\"1\" class=\"dataframe\">\n",
              "  <thead>\n",
              "    <tr style=\"text-align: right;\">\n",
              "      <th></th>\n",
              "      <th>0</th>\n",
              "      <th>pathway</th>\n",
              "    </tr>\n",
              "  </thead>\n",
              "  <tbody>\n",
              "    <tr>\n",
              "      <th>0</th>\n",
              "      <td>0.009091</td>\n",
              "      <td>hsa01522 .csv</td>\n",
              "    </tr>\n",
              "    <tr>\n",
              "      <th>1</th>\n",
              "      <td>0.009091</td>\n",
              "      <td>hsa03320 .csv</td>\n",
              "    </tr>\n",
              "    <tr>\n",
              "      <th>2</th>\n",
              "      <td>0.009091</td>\n",
              "      <td>hsa04010 .csv</td>\n",
              "    </tr>\n",
              "    <tr>\n",
              "      <th>3</th>\n",
              "      <td>0.009091</td>\n",
              "      <td>hsa04012 .csv</td>\n",
              "    </tr>\n",
              "    <tr>\n",
              "      <th>4</th>\n",
              "      <td>0.009091</td>\n",
              "      <td>hsa04014 .csv</td>\n",
              "    </tr>\n",
              "    <tr>\n",
              "      <th>...</th>\n",
              "      <td>...</td>\n",
              "      <td>...</td>\n",
              "    </tr>\n",
              "    <tr>\n",
              "      <th>105</th>\n",
              "      <td>0.009091</td>\n",
              "      <td>hsa05205 .csv</td>\n",
              "    </tr>\n",
              "    <tr>\n",
              "      <th>106</th>\n",
              "      <td>0.009091</td>\n",
              "      <td>hsa05211 .csv</td>\n",
              "    </tr>\n",
              "    <tr>\n",
              "      <th>107</th>\n",
              "      <td>0.009091</td>\n",
              "      <td>hsa05230 .csv</td>\n",
              "    </tr>\n",
              "    <tr>\n",
              "      <th>108</th>\n",
              "      <td>0.009091</td>\n",
              "      <td>hsa05231 .csv</td>\n",
              "    </tr>\n",
              "    <tr>\n",
              "      <th>109</th>\n",
              "      <td>0.009091</td>\n",
              "      <td>hsa05235 .csv</td>\n",
              "    </tr>\n",
              "  </tbody>\n",
              "</table>\n",
              "<p>110 rows × 2 columns</p>\n",
              "</div>"
            ],
            "text/plain": [
              "            0        pathway\n",
              "0    0.009091  hsa01522 .csv\n",
              "1    0.009091  hsa03320 .csv\n",
              "2    0.009091  hsa04010 .csv\n",
              "3    0.009091  hsa04012 .csv\n",
              "4    0.009091  hsa04014 .csv\n",
              "..        ...            ...\n",
              "105  0.009091  hsa05205 .csv\n",
              "106  0.009091  hsa05211 .csv\n",
              "107  0.009091  hsa05230 .csv\n",
              "108  0.009091  hsa05231 .csv\n",
              "109  0.009091  hsa05235 .csv\n",
              "\n",
              "[110 rows x 2 columns]"
            ]
          },
          "metadata": {
            "tags": []
          },
          "execution_count": 40
        }
      ]
    },
    {
      "cell_type": "code",
      "metadata": {
        "id": "qFS_4ZmM3Cmh",
        "colab_type": "code",
        "colab": {}
      },
      "source": [
        "full_dataset = tf.data.Dataset.from_tensor_slices((X, Y))"
      ],
      "execution_count": 44,
      "outputs": []
    },
    {
      "cell_type": "code",
      "metadata": {
        "id": "S5tATv8YFTSN",
        "colab_type": "code",
        "colab": {}
      },
      "source": [
        "pathway_scores = []"
      ],
      "execution_count": 45,
      "outputs": []
    },
    {
      "cell_type": "code",
      "metadata": {
        "id": "7wtCRyHuFN62",
        "colab_type": "code",
        "colab": {}
      },
      "source": [
        "for patient, label in full_dataset:\n",
        "  _ = mae(patient)\n",
        "  scores = mae.h_fin.ensemble_1.alpha.numpy()\n",
        "  scores_norm = scores/np.linalg.norm(scores)\n",
        "  pathway_scores.append(scores_norm)"
      ],
      "execution_count": 46,
      "outputs": []
    },
    {
      "cell_type": "code",
      "metadata": {
        "id": "2eb140flFo99",
        "colab_type": "code",
        "colab": {
          "base_uri": "https://localhost:8080/",
          "height": 248
        },
        "outputId": "99f61df4-5ef1-4215-cf8e-ebe747160348"
      },
      "source": [
        "from matplotlib.pyplot import figure\n",
        "figure(num=None, figsize=(30, 60), dpi=80, facecolor='w', edgecolor='k')\n",
        "plt.imshow(np.asarray(pathway_scores).T, cmap='Reds', interpolation='nearest')\n",
        "plt.show()"
      ],
      "execution_count": 47,
      "outputs": [
        {
          "output_type": "display_data",
          "data": {
            "image/png": "[encoded data removed]",
            "text/plain": [
              "<Figure size 2400x4800 with 1 Axes>"
            ]
          },
          "metadata": {
            "tags": []
          }
        }
      ]
    },
    {
      "cell_type": "code",
      "metadata": {
        "id": "cP3lfscUHXON",
        "colab_type": "code",
        "colab": {
          "base_uri": "https://localhost:8080/",
          "height": 34
        },
        "outputId": "015206bf-48b0-4b29-a820-acdf624d38f4"
      },
      "source": [
        "pathway_scores[410][26]"
      ],
      "execution_count": 48,
      "outputs": [
        {
          "output_type": "execute_result",
          "data": {
            "text/plain": [
              "0.095346265"
            ]
          },
          "metadata": {
            "tags": []
          },
          "execution_count": 48
        }
      ]
    },
    {
      "cell_type": "code",
      "metadata": {
        "id": "MS-A6kOjIJ0g",
        "colab_type": "code",
        "colab": {
          "base_uri": "https://localhost:8080/",
          "height": 34
        },
        "outputId": "f61d6989-bd4b-424f-b1b8-29265c639620"
      },
      "source": [
        "pathway_scores[101][26]"
      ],
      "execution_count": 49,
      "outputs": [
        {
          "output_type": "execute_result",
          "data": {
            "text/plain": [
              "0.09534626"
            ]
          },
          "metadata": {
            "tags": []
          },
          "execution_count": 49
        }
      ]
    },
    {
      "cell_type": "code",
      "metadata": {
        "id": "NBo41AenI0-Z",
        "colab_type": "code",
        "colab": {}
      },
      "source": [
        "pathway_scores[830][26]"
      ],
      "execution_count": null,
      "outputs": []
    },
    {
      "cell_type": "code",
      "metadata": {
        "id": "I8H1qH-wJBZ8",
        "colab_type": "code",
        "colab": {}
      },
      "source": [
        "key_list[26] #Ferroptosis"
      ],
      "execution_count": null,
      "outputs": []
    },
    {
      "cell_type": "code",
      "metadata": {
        "id": "qdtkb0PXJGaA",
        "colab_type": "code",
        "colab": {}
      },
      "source": [
        "import matplotlib.pyplot as plt\n",
        "plt.plot([0.96, 0.97, 0.95, 0.97, 0.97])"
      ],
      "execution_count": null,
      "outputs": []
    },
    {
      "cell_type": "code",
      "metadata": {
        "id": "nTYWIGCyj3AO",
        "colab_type": "code",
        "colab": {}
      },
      "source": [
        "pathway_scores_df = pd.DataFrame(pathway_scores, columns=key_list)"
      ],
      "execution_count": null,
      "outputs": []
    },
    {
      "cell_type": "code",
      "metadata": {
        "id": "znmnFXHrJUmR",
        "colab_type": "code",
        "colab": {}
      },
      "source": [
        "pathway_scores_df.to_csv('./pathway_scores_gcn_mae_kirc_stage.csv')"
      ],
      "execution_count": null,
      "outputs": []
    },
    {
      "cell_type": "code",
      "metadata": {
        "id": "fhOSQTPbJnxu",
        "colab_type": "code",
        "colab": {}
      },
      "source": [
        "#scores for best performing pathways (individually) \n",
        "pathway_to_see = ['hsa04530 .csv', 'hsa04068 .csv', 'hsa04010 .csv', 'hsa05211 .csv']\n",
        "for p in pathway_to_see:\n",
        "  print(p[:-5])\n",
        "  idx = pathway_file_map[p]\n",
        "  kirp_score = np.mean([x[idx] for x in pathway_scores[0:290]])\n",
        "  kirc_score = np.mean([x[idx] for x in pathway_scores[290:808]])\n",
        "  kich_score = np.mean([x[idx] for x in pathway_scores[808:]])\n",
        "  print(kirp_score, kirc_score, kich_score)"
      ],
      "execution_count": null,
      "outputs": []
    },
    {
      "cell_type": "code",
      "metadata": {
        "id": "ywmdh_H_LZUt",
        "colab_type": "code",
        "colab": {}
      },
      "source": [
        "#scores for least performing pathways (individually) \n",
        "pathway_to_see = ['hsa04216 .csv', 'hsa04657 .csv', 'hsa04973 .csv']\n",
        "for p in pathway_to_see:\n",
        "  print(p[:-5])\n",
        "  idx = pathway_file_map[p]\n",
        "  kirp_score = np.mean([x[idx] for x in pathway_scores[0:290]])\n",
        "  kirc_score = np.mean([x[idx] for x in pathway_scores[290:808]])\n",
        "  kich_score = np.mean([x[idx] for x in pathway_scores[808:]])\n",
        "  print(kirp_score, kirc_score, kich_score)"
      ],
      "execution_count": null,
      "outputs": []
    },
    {
      "cell_type": "code",
      "metadata": {
        "id": "ygL1cVEhLjUZ",
        "colab_type": "code",
        "colab": {}
      },
      "source": [
        "attention_model_stats = []\n",
        "\n",
        "for p in key_list:\n",
        "  print(p[:-5])\n",
        "  idx = pathway_file_map[p]\n",
        "  kirp_score = np.mean([x[idx] for x in pathway_scores[0:290]])\n",
        "  kirc_score = np.mean([x[idx] for x in pathway_scores[290:808]])\n",
        "  kich_score = np.mean([x[idx] for x in pathway_scores[808:]])\n",
        "  variation = np.var([kirp_score, kirc_score, kich_score], ddof=1)\n",
        "  diff_kirp_kirc = abs(kirp_score-kirc_score)\n",
        "  diff_kirp_kich = abs(kirp_score-kich_score)\n",
        "  diff_kirc_kich = abs(kirc_score-kich_score)\n",
        "  attention_model_stats.append([p[:-5],kirp_score, kirc_score, kich_score, variation, diff_kirp_kirc, diff_kirp_kich, diff_kirc_kich])"
      ],
      "execution_count": null,
      "outputs": []
    },
    {
      "cell_type": "code",
      "metadata": {
        "id": "4yoMQ8JVOhrH",
        "colab_type": "code",
        "colab": {}
      },
      "source": [
        "attention_model_stats"
      ],
      "execution_count": null,
      "outputs": []
    },
    {
      "cell_type": "code",
      "metadata": {
        "id": "3aZ604pgP5VQ",
        "colab_type": "code",
        "colab": {}
      },
      "source": [
        "attention_model_stats_df = pd.DataFrame(attention_model_stats)"
      ],
      "execution_count": null,
      "outputs": []
    },
    {
      "cell_type": "code",
      "metadata": {
        "id": "mYB7gB5CXbd7",
        "colab_type": "code",
        "colab": {}
      },
      "source": [
        "attention_model_stats_df.to_csv(\"attention_model__kirc_stage_stats.csv\")"
      ],
      "execution_count": null,
      "outputs": []
    },
    {
      "cell_type": "code",
      "metadata": {
        "id": "ZXNT6PkkXpNo",
        "colab_type": "code",
        "colab": {}
      },
      "source": [
        ""
      ],
      "execution_count": null,
      "outputs": []
    }
  ]
}